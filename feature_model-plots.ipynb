{
 "cells": [
  {
   "cell_type": "code",
   "execution_count": 12,
   "metadata": {},
   "outputs": [],
   "source": [
    "%matplotlib inline\n",
    "%reload_ext autoreload\n",
    "%autoreload 2"
   ]
  },
  {
   "cell_type": "code",
   "execution_count": 13,
   "metadata": {},
   "outputs": [],
   "source": [
    "from fastai.structured import *\n",
    "from fastai.column_data import *\n",
    "import pandas as pd\n",
    "np.set_printoptions(threshold=50, edgeitems=20)\n",
    "\n",
    "PATH = 'feature/'"
   ]
  },
  {
   "cell_type": "code",
   "execution_count": 14,
   "metadata": {},
   "outputs": [],
   "source": [
    "from fastai.imports import *\n",
    "from fastai.structured import *\n",
    "\n",
    "from pandas_summary import DataFrameSummary\n",
    "from sklearn.ensemble import RandomForestRegressor, RandomForestClassifier\n",
    "from IPython.display import display\n",
    "\n",
    "from sklearn import metrics"
   ]
  },
  {
   "cell_type": "code",
   "execution_count": 15,
   "metadata": {},
   "outputs": [],
   "source": [
    "df=pd.read_pickle('merged_1m.pkl')"
   ]
  },
  {
   "cell_type": "code",
   "execution_count": 16,
   "metadata": {},
   "outputs": [
    {
     "data": {
      "text/html": [
       "<div>\n",
       "<style scoped>\n",
       "    .dataframe tbody tr th:only-of-type {\n",
       "        vertical-align: middle;\n",
       "    }\n",
       "\n",
       "    .dataframe tbody tr th {\n",
       "        vertical-align: top;\n",
       "    }\n",
       "\n",
       "    .dataframe thead th {\n",
       "        text-align: right;\n",
       "    }\n",
       "</style>\n",
       "<table border=\"1\" class=\"dataframe\">\n",
       "  <thead>\n",
       "    <tr style=\"text-align: right;\">\n",
       "      <th></th>\n",
       "      <th>atom_name</th>\n",
       "      <th>residue_name_x</th>\n",
       "      <th>feature_x</th>\n",
       "      <th>feature_y</th>\n",
       "      <th>feature_z</th>\n",
       "      <th>chain_id_y</th>\n",
       "      <th>x_coord</th>\n",
       "      <th>y_coord</th>\n",
       "      <th>z_coord</th>\n",
       "      <th>b_factor_y</th>\n",
       "      <th>element_symbol_y</th>\n",
       "    </tr>\n",
       "  </thead>\n",
       "  <tbody>\n",
       "    <tr>\n",
       "      <th>0</th>\n",
       "      <td>CA</td>\n",
       "      <td>MET</td>\n",
       "      <td>37.390</td>\n",
       "      <td>40.466</td>\n",
       "      <td>11.665</td>\n",
       "      <td>A</td>\n",
       "      <td>37.390</td>\n",
       "      <td>40.466</td>\n",
       "      <td>11.665</td>\n",
       "      <td>0.0</td>\n",
       "      <td>C</td>\n",
       "    </tr>\n",
       "    <tr>\n",
       "      <th>1</th>\n",
       "      <td>N</td>\n",
       "      <td>MET</td>\n",
       "      <td>38.474</td>\n",
       "      <td>41.461</td>\n",
       "      <td>11.588</td>\n",
       "      <td>A</td>\n",
       "      <td>38.763</td>\n",
       "      <td>40.932</td>\n",
       "      <td>11.492</td>\n",
       "      <td>0.0</td>\n",
       "      <td>N</td>\n",
       "    </tr>\n",
       "    <tr>\n",
       "      <th>2</th>\n",
       "      <td>CB</td>\n",
       "      <td>MET</td>\n",
       "      <td>36.996</td>\n",
       "      <td>40.456</td>\n",
       "      <td>13.115</td>\n",
       "      <td>A</td>\n",
       "      <td>36.924</td>\n",
       "      <td>40.679</td>\n",
       "      <td>13.110</td>\n",
       "      <td>0.0</td>\n",
       "      <td>C</td>\n",
       "    </tr>\n",
       "    <tr>\n",
       "      <th>3</th>\n",
       "      <td>CG</td>\n",
       "      <td>MET</td>\n",
       "      <td>38.291</td>\n",
       "      <td>41.233</td>\n",
       "      <td>13.247</td>\n",
       "      <td>A</td>\n",
       "      <td>35.532</td>\n",
       "      <td>40.128</td>\n",
       "      <td>13.427</td>\n",
       "      <td>0.0</td>\n",
       "      <td>C</td>\n",
       "    </tr>\n",
       "    <tr>\n",
       "      <th>4</th>\n",
       "      <td>SD</td>\n",
       "      <td>MET</td>\n",
       "      <td>39.088</td>\n",
       "      <td>41.395</td>\n",
       "      <td>11.599</td>\n",
       "      <td>A</td>\n",
       "      <td>35.422</td>\n",
       "      <td>38.321</td>\n",
       "      <td>13.451</td>\n",
       "      <td>0.0</td>\n",
       "      <td>S</td>\n",
       "    </tr>\n",
       "    <tr>\n",
       "      <th>5</th>\n",
       "      <td>CE</td>\n",
       "      <td>MET</td>\n",
       "      <td>37.884</td>\n",
       "      <td>41.042</td>\n",
       "      <td>10.266</td>\n",
       "      <td>A</td>\n",
       "      <td>33.815</td>\n",
       "      <td>38.072</td>\n",
       "      <td>14.207</td>\n",
       "      <td>0.0</td>\n",
       "      <td>C</td>\n",
       "    </tr>\n",
       "    <tr>\n",
       "      <th>6</th>\n",
       "      <td>C</td>\n",
       "      <td>MET</td>\n",
       "      <td>36.331</td>\n",
       "      <td>40.746</td>\n",
       "      <td>10.550</td>\n",
       "      <td>A</td>\n",
       "      <td>36.434</td>\n",
       "      <td>41.158</td>\n",
       "      <td>10.694</td>\n",
       "      <td>0.0</td>\n",
       "      <td>C</td>\n",
       "    </tr>\n",
       "    <tr>\n",
       "      <th>7</th>\n",
       "      <td>O</td>\n",
       "      <td>MET</td>\n",
       "      <td>36.190</td>\n",
       "      <td>39.987</td>\n",
       "      <td>9.571</td>\n",
       "      <td>A</td>\n",
       "      <td>36.174</td>\n",
       "      <td>40.649</td>\n",
       "      <td>9.601</td>\n",
       "      <td>0.0</td>\n",
       "      <td>O</td>\n",
       "    </tr>\n",
       "    <tr>\n",
       "      <th>8</th>\n",
       "      <td>CA</td>\n",
       "      <td>SER</td>\n",
       "      <td>34.813</td>\n",
       "      <td>42.979</td>\n",
       "      <td>10.397</td>\n",
       "      <td>A</td>\n",
       "      <td>34.813</td>\n",
       "      <td>42.979</td>\n",
       "      <td>10.397</td>\n",
       "      <td>0.0</td>\n",
       "      <td>C</td>\n",
       "    </tr>\n",
       "    <tr>\n",
       "      <th>9</th>\n",
       "      <td>N</td>\n",
       "      <td>SER</td>\n",
       "      <td>35.916</td>\n",
       "      <td>42.034</td>\n",
       "      <td>10.615</td>\n",
       "      <td>A</td>\n",
       "      <td>35.930</td>\n",
       "      <td>42.325</td>\n",
       "      <td>11.090</td>\n",
       "      <td>0.0</td>\n",
       "      <td>N</td>\n",
       "    </tr>\n",
       "    <tr>\n",
       "      <th>10</th>\n",
       "      <td>CB</td>\n",
       "      <td>SER</td>\n",
       "      <td>34.207</td>\n",
       "      <td>43.177</td>\n",
       "      <td>11.787</td>\n",
       "      <td>A</td>\n",
       "      <td>34.260</td>\n",
       "      <td>44.137</td>\n",
       "      <td>11.235</td>\n",
       "      <td>0.0</td>\n",
       "      <td>C</td>\n",
       "    </tr>\n",
       "    <tr>\n",
       "      <th>11</th>\n",
       "      <td>OG</td>\n",
       "      <td>SER</td>\n",
       "      <td>34.809</td>\n",
       "      <td>44.285</td>\n",
       "      <td>12.439</td>\n",
       "      <td>A</td>\n",
       "      <td>33.684</td>\n",
       "      <td>43.655</td>\n",
       "      <td>12.434</td>\n",
       "      <td>0.0</td>\n",
       "      <td>O</td>\n",
       "    </tr>\n",
       "    <tr>\n",
       "      <th>12</th>\n",
       "      <td>C</td>\n",
       "      <td>SER</td>\n",
       "      <td>33.994</td>\n",
       "      <td>43.758</td>\n",
       "      <td>9.331</td>\n",
       "      <td>A</td>\n",
       "      <td>35.082</td>\n",
       "      <td>43.459</td>\n",
       "      <td>8.966</td>\n",
       "      <td>0.0</td>\n",
       "      <td>C</td>\n",
       "    </tr>\n",
       "    <tr>\n",
       "      <th>13</th>\n",
       "      <td>O</td>\n",
       "      <td>SER</td>\n",
       "      <td>34.206</td>\n",
       "      <td>44.868</td>\n",
       "      <td>9.816</td>\n",
       "      <td>A</td>\n",
       "      <td>36.105</td>\n",
       "      <td>44.092</td>\n",
       "      <td>8.670</td>\n",
       "      <td>0.0</td>\n",
       "      <td>O</td>\n",
       "    </tr>\n",
       "    <tr>\n",
       "      <th>14</th>\n",
       "      <td>CA</td>\n",
       "      <td>CYS</td>\n",
       "      <td>34.220</td>\n",
       "      <td>43.589</td>\n",
       "      <td>6.704</td>\n",
       "      <td>A</td>\n",
       "      <td>34.220</td>\n",
       "      <td>43.589</td>\n",
       "      <td>6.704</td>\n",
       "      <td>0.0</td>\n",
       "      <td>C</td>\n",
       "    </tr>\n",
       "    <tr>\n",
       "      <th>15</th>\n",
       "      <td>N</td>\n",
       "      <td>CYS</td>\n",
       "      <td>33.814</td>\n",
       "      <td>44.027</td>\n",
       "      <td>8.020</td>\n",
       "      <td>A</td>\n",
       "      <td>34.129</td>\n",
       "      <td>43.168</td>\n",
       "      <td>8.089</td>\n",
       "      <td>0.0</td>\n",
       "      <td>N</td>\n",
       "    </tr>\n",
       "    <tr>\n",
       "      <th>16</th>\n",
       "      <td>CB</td>\n",
       "      <td>CYS</td>\n",
       "      <td>35.386</td>\n",
       "      <td>44.550</td>\n",
       "      <td>6.657</td>\n",
       "      <td>A</td>\n",
       "      <td>34.807</td>\n",
       "      <td>42.465</td>\n",
       "      <td>5.850</td>\n",
       "      <td>0.0</td>\n",
       "      <td>C</td>\n",
       "    </tr>\n",
       "    <tr>\n",
       "      <th>17</th>\n",
       "      <td>SG</td>\n",
       "      <td>CYS</td>\n",
       "      <td>36.777</td>\n",
       "      <td>43.402</td>\n",
       "      <td>6.920</td>\n",
       "      <td>A</td>\n",
       "      <td>34.896</td>\n",
       "      <td>42.842</td>\n",
       "      <td>4.103</td>\n",
       "      <td>0.0</td>\n",
       "      <td>S</td>\n",
       "    </tr>\n",
       "    <tr>\n",
       "      <th>18</th>\n",
       "      <td>C</td>\n",
       "      <td>CYS</td>\n",
       "      <td>33.218</td>\n",
       "      <td>44.026</td>\n",
       "      <td>5.644</td>\n",
       "      <td>A</td>\n",
       "      <td>32.863</td>\n",
       "      <td>44.041</td>\n",
       "      <td>6.157</td>\n",
       "      <td>0.0</td>\n",
       "      <td>C</td>\n",
       "    </tr>\n",
       "    <tr>\n",
       "      <th>19</th>\n",
       "      <td>O</td>\n",
       "      <td>CYS</td>\n",
       "      <td>33.471</td>\n",
       "      <td>43.507</td>\n",
       "      <td>4.564</td>\n",
       "      <td>A</td>\n",
       "      <td>31.843</td>\n",
       "      <td>43.369</td>\n",
       "      <td>6.350</td>\n",
       "      <td>0.0</td>\n",
       "      <td>O</td>\n",
       "    </tr>\n",
       "  </tbody>\n",
       "</table>\n",
       "</div>"
      ],
      "text/plain": [
       "   atom_name residue_name_x  feature_x  feature_y  feature_z chain_id_y  \\\n",
       "0         CA            MET     37.390     40.466     11.665          A   \n",
       "1          N            MET     38.474     41.461     11.588          A   \n",
       "2         CB            MET     36.996     40.456     13.115          A   \n",
       "3         CG            MET     38.291     41.233     13.247          A   \n",
       "4         SD            MET     39.088     41.395     11.599          A   \n",
       "5         CE            MET     37.884     41.042     10.266          A   \n",
       "6          C            MET     36.331     40.746     10.550          A   \n",
       "7          O            MET     36.190     39.987      9.571          A   \n",
       "8         CA            SER     34.813     42.979     10.397          A   \n",
       "9          N            SER     35.916     42.034     10.615          A   \n",
       "10        CB            SER     34.207     43.177     11.787          A   \n",
       "11        OG            SER     34.809     44.285     12.439          A   \n",
       "12         C            SER     33.994     43.758      9.331          A   \n",
       "13         O            SER     34.206     44.868      9.816          A   \n",
       "14        CA            CYS     34.220     43.589      6.704          A   \n",
       "15         N            CYS     33.814     44.027      8.020          A   \n",
       "16        CB            CYS     35.386     44.550      6.657          A   \n",
       "17        SG            CYS     36.777     43.402      6.920          A   \n",
       "18         C            CYS     33.218     44.026      5.644          A   \n",
       "19         O            CYS     33.471     43.507      4.564          A   \n",
       "\n",
       "    x_coord  y_coord  z_coord  b_factor_y element_symbol_y  \n",
       "0    37.390   40.466   11.665         0.0                C  \n",
       "1    38.763   40.932   11.492         0.0                N  \n",
       "2    36.924   40.679   13.110         0.0                C  \n",
       "3    35.532   40.128   13.427         0.0                C  \n",
       "4    35.422   38.321   13.451         0.0                S  \n",
       "5    33.815   38.072   14.207         0.0                C  \n",
       "6    36.434   41.158   10.694         0.0                C  \n",
       "7    36.174   40.649    9.601         0.0                O  \n",
       "8    34.813   42.979   10.397         0.0                C  \n",
       "9    35.930   42.325   11.090         0.0                N  \n",
       "10   34.260   44.137   11.235         0.0                C  \n",
       "11   33.684   43.655   12.434         0.0                O  \n",
       "12   35.082   43.459    8.966         0.0                C  \n",
       "13   36.105   44.092    8.670         0.0                O  \n",
       "14   34.220   43.589    6.704         0.0                C  \n",
       "15   34.129   43.168    8.089         0.0                N  \n",
       "16   34.807   42.465    5.850         0.0                C  \n",
       "17   34.896   42.842    4.103         0.0                S  \n",
       "18   32.863   44.041    6.157         0.0                C  \n",
       "19   31.843   43.369    6.350         0.0                O  "
      ]
     },
     "execution_count": 16,
     "metadata": {},
     "output_type": "execute_result"
    }
   ],
   "source": [
    "df.head(20)"
   ]
  },
  {
   "cell_type": "code",
   "execution_count": 17,
   "metadata": {
    "scrolled": true
   },
   "outputs": [
    {
     "data": {
      "text/plain": [
       "Index(['atom_name', 'residue_name_x', 'feature_x', 'feature_y', 'feature_z',\n",
       "       'chain_id_y', 'x_coord', 'y_coord', 'z_coord', 'b_factor_y',\n",
       "       'element_symbol_y'],\n",
       "      dtype='object')"
      ]
     },
     "execution_count": 17,
     "metadata": {},
     "output_type": "execute_result"
    }
   ],
   "source": [
    "df.columns"
   ]
  },
  {
   "cell_type": "code",
   "execution_count": 19,
   "metadata": {},
   "outputs": [],
   "source": [
    "cat_vars = ['atom_name', 'residue_name_x', 'chain_id_y',\n",
    "       'element_symbol_y']"
   ]
  },
  {
   "cell_type": "code",
   "execution_count": 20,
   "metadata": {},
   "outputs": [],
   "source": [
    "contin_vars = ['x_coord', 'y_coord', 'z_coord','feature_x', 'feature_y', 'feature_z']"
   ]
  },
  {
   "cell_type": "code",
   "execution_count": 21,
   "metadata": {},
   "outputs": [],
   "source": [
    "for v in cat_vars: df[v] = df[v].astype('category').cat.as_ordered()"
   ]
  },
  {
   "cell_type": "code",
   "execution_count": 22,
   "metadata": {},
   "outputs": [],
   "source": [
    "for v in contin_vars:\n",
    "    df[v] = df[v].fillna(0).astype('float32')"
   ]
  },
  {
   "cell_type": "code",
   "execution_count": 23,
   "metadata": {},
   "outputs": [
    {
     "data": {
      "text/plain": [
       "Index(['atom_name', 'residue_name_x', 'feature_x', 'feature_y', 'feature_z',\n",
       "       'chain_id_y', 'x_coord', 'y_coord', 'z_coord', 'b_factor_y',\n",
       "       'element_symbol_y'],\n",
       "      dtype='object')"
      ]
     },
     "execution_count": 23,
     "metadata": {},
     "output_type": "execute_result"
    }
   ],
   "source": [
    "df.columns"
   ]
  },
  {
   "cell_type": "code",
   "execution_count": 24,
   "metadata": {},
   "outputs": [
    {
     "data": {
      "text/html": [
       "<div>\n",
       "<style scoped>\n",
       "    .dataframe tbody tr th:only-of-type {\n",
       "        vertical-align: middle;\n",
       "    }\n",
       "\n",
       "    .dataframe tbody tr th {\n",
       "        vertical-align: top;\n",
       "    }\n",
       "\n",
       "    .dataframe thead th {\n",
       "        text-align: right;\n",
       "    }\n",
       "</style>\n",
       "<table border=\"1\" class=\"dataframe\">\n",
       "  <thead>\n",
       "    <tr style=\"text-align: right;\">\n",
       "      <th></th>\n",
       "      <th>x_coord</th>\n",
       "      <th>y_coord</th>\n",
       "      <th>z_coord</th>\n",
       "    </tr>\n",
       "  </thead>\n",
       "  <tbody>\n",
       "    <tr>\n",
       "      <th>0</th>\n",
       "      <td>37.389999</td>\n",
       "      <td>40.466000</td>\n",
       "      <td>11.665</td>\n",
       "    </tr>\n",
       "    <tr>\n",
       "      <th>1</th>\n",
       "      <td>38.763000</td>\n",
       "      <td>40.931999</td>\n",
       "      <td>11.492</td>\n",
       "    </tr>\n",
       "    <tr>\n",
       "      <th>2</th>\n",
       "      <td>36.924000</td>\n",
       "      <td>40.679001</td>\n",
       "      <td>13.110</td>\n",
       "    </tr>\n",
       "    <tr>\n",
       "      <th>3</th>\n",
       "      <td>35.532001</td>\n",
       "      <td>40.127998</td>\n",
       "      <td>13.427</td>\n",
       "    </tr>\n",
       "    <tr>\n",
       "      <th>4</th>\n",
       "      <td>35.422001</td>\n",
       "      <td>38.320999</td>\n",
       "      <td>13.451</td>\n",
       "    </tr>\n",
       "  </tbody>\n",
       "</table>\n",
       "</div>"
      ],
      "text/plain": [
       "     x_coord    y_coord  z_coord\n",
       "0  37.389999  40.466000   11.665\n",
       "1  38.763000  40.931999   11.492\n",
       "2  36.924000  40.679001   13.110\n",
       "3  35.532001  40.127998   13.427\n",
       "4  35.422001  38.320999   13.451"
      ]
     },
     "execution_count": 24,
     "metadata": {},
     "output_type": "execute_result"
    }
   ],
   "source": [
    "y=df.drop(['atom_name', 'residue_name_x', 'chain_id_y','b_factor_y','element_symbol_y', 'feature_x', 'feature_y', 'feature_z'],axis=1)\n",
    "y.head()"
   ]
  },
  {
   "cell_type": "code",
   "execution_count": 25,
   "metadata": {},
   "outputs": [],
   "source": [
    "y=y.values"
   ]
  },
  {
   "cell_type": "code",
   "execution_count": 26,
   "metadata": {},
   "outputs": [],
   "source": [
    "train_cats(df)"
   ]
  },
  {
   "cell_type": "code",
   "execution_count": 27,
   "metadata": {},
   "outputs": [
    {
     "data": {
      "text/html": [
       "<div>\n",
       "<style scoped>\n",
       "    .dataframe tbody tr th:only-of-type {\n",
       "        vertical-align: middle;\n",
       "    }\n",
       "\n",
       "    .dataframe tbody tr th {\n",
       "        vertical-align: top;\n",
       "    }\n",
       "\n",
       "    .dataframe thead th {\n",
       "        text-align: right;\n",
       "    }\n",
       "</style>\n",
       "<table border=\"1\" class=\"dataframe\">\n",
       "  <thead>\n",
       "    <tr style=\"text-align: right;\">\n",
       "      <th></th>\n",
       "      <th>atom_name</th>\n",
       "      <th>residue_name_x</th>\n",
       "      <th>feature_x</th>\n",
       "      <th>feature_y</th>\n",
       "      <th>feature_z</th>\n",
       "      <th>chain_id_y</th>\n",
       "      <th>x_coord</th>\n",
       "      <th>y_coord</th>\n",
       "      <th>z_coord</th>\n",
       "      <th>b_factor_y</th>\n",
       "      <th>element_symbol_y</th>\n",
       "    </tr>\n",
       "  </thead>\n",
       "  <tbody>\n",
       "    <tr>\n",
       "      <th>0</th>\n",
       "      <td>CA</td>\n",
       "      <td>MET</td>\n",
       "      <td>37.389999</td>\n",
       "      <td>40.466000</td>\n",
       "      <td>11.665</td>\n",
       "      <td>A</td>\n",
       "      <td>37.389999</td>\n",
       "      <td>40.466000</td>\n",
       "      <td>11.665</td>\n",
       "      <td>0.0</td>\n",
       "      <td>C</td>\n",
       "    </tr>\n",
       "    <tr>\n",
       "      <th>1</th>\n",
       "      <td>N</td>\n",
       "      <td>MET</td>\n",
       "      <td>38.473999</td>\n",
       "      <td>41.460999</td>\n",
       "      <td>11.588</td>\n",
       "      <td>A</td>\n",
       "      <td>38.763000</td>\n",
       "      <td>40.931999</td>\n",
       "      <td>11.492</td>\n",
       "      <td>0.0</td>\n",
       "      <td>N</td>\n",
       "    </tr>\n",
       "    <tr>\n",
       "      <th>2</th>\n",
       "      <td>CB</td>\n",
       "      <td>MET</td>\n",
       "      <td>36.995998</td>\n",
       "      <td>40.456001</td>\n",
       "      <td>13.115</td>\n",
       "      <td>A</td>\n",
       "      <td>36.924000</td>\n",
       "      <td>40.679001</td>\n",
       "      <td>13.110</td>\n",
       "      <td>0.0</td>\n",
       "      <td>C</td>\n",
       "    </tr>\n",
       "    <tr>\n",
       "      <th>3</th>\n",
       "      <td>CG</td>\n",
       "      <td>MET</td>\n",
       "      <td>38.291000</td>\n",
       "      <td>41.233002</td>\n",
       "      <td>13.247</td>\n",
       "      <td>A</td>\n",
       "      <td>35.532001</td>\n",
       "      <td>40.127998</td>\n",
       "      <td>13.427</td>\n",
       "      <td>0.0</td>\n",
       "      <td>C</td>\n",
       "    </tr>\n",
       "    <tr>\n",
       "      <th>4</th>\n",
       "      <td>SD</td>\n",
       "      <td>MET</td>\n",
       "      <td>39.088001</td>\n",
       "      <td>41.395000</td>\n",
       "      <td>11.599</td>\n",
       "      <td>A</td>\n",
       "      <td>35.422001</td>\n",
       "      <td>38.320999</td>\n",
       "      <td>13.451</td>\n",
       "      <td>0.0</td>\n",
       "      <td>S</td>\n",
       "    </tr>\n",
       "  </tbody>\n",
       "</table>\n",
       "</div>"
      ],
      "text/plain": [
       "  atom_name residue_name_x  feature_x  feature_y  feature_z chain_id_y  \\\n",
       "0        CA            MET  37.389999  40.466000     11.665          A   \n",
       "1         N            MET  38.473999  41.460999     11.588          A   \n",
       "2        CB            MET  36.995998  40.456001     13.115          A   \n",
       "3        CG            MET  38.291000  41.233002     13.247          A   \n",
       "4        SD            MET  39.088001  41.395000     11.599          A   \n",
       "\n",
       "     x_coord    y_coord  z_coord  b_factor_y element_symbol_y  \n",
       "0  37.389999  40.466000   11.665         0.0                C  \n",
       "1  38.763000  40.931999   11.492         0.0                N  \n",
       "2  36.924000  40.679001   13.110         0.0                C  \n",
       "3  35.532001  40.127998   13.427         0.0                C  \n",
       "4  35.422001  38.320999   13.451         0.0                S  "
      ]
     },
     "execution_count": 27,
     "metadata": {},
     "output_type": "execute_result"
    }
   ],
   "source": [
    "df.head()"
   ]
  },
  {
   "cell_type": "code",
   "execution_count": 28,
   "metadata": {},
   "outputs": [
    {
     "data": {
      "text/html": [
       "<div>\n",
       "<style scoped>\n",
       "    .dataframe tbody tr th:only-of-type {\n",
       "        vertical-align: middle;\n",
       "    }\n",
       "\n",
       "    .dataframe tbody tr th {\n",
       "        vertical-align: top;\n",
       "    }\n",
       "\n",
       "    .dataframe thead th {\n",
       "        text-align: right;\n",
       "    }\n",
       "</style>\n",
       "<table border=\"1\" class=\"dataframe\">\n",
       "  <thead>\n",
       "    <tr style=\"text-align: right;\">\n",
       "      <th></th>\n",
       "      <th>atom_name</th>\n",
       "      <th>residue_name_x</th>\n",
       "      <th>feature_x</th>\n",
       "      <th>feature_y</th>\n",
       "      <th>feature_z</th>\n",
       "      <th>chain_id_y</th>\n",
       "      <th>b_factor_y</th>\n",
       "      <th>element_symbol_y</th>\n",
       "    </tr>\n",
       "  </thead>\n",
       "  <tbody>\n",
       "    <tr>\n",
       "      <th>0</th>\n",
       "      <td>CA</td>\n",
       "      <td>MET</td>\n",
       "      <td>37.389999</td>\n",
       "      <td>40.466000</td>\n",
       "      <td>11.665</td>\n",
       "      <td>A</td>\n",
       "      <td>0.0</td>\n",
       "      <td>C</td>\n",
       "    </tr>\n",
       "    <tr>\n",
       "      <th>1</th>\n",
       "      <td>N</td>\n",
       "      <td>MET</td>\n",
       "      <td>38.473999</td>\n",
       "      <td>41.460999</td>\n",
       "      <td>11.588</td>\n",
       "      <td>A</td>\n",
       "      <td>0.0</td>\n",
       "      <td>N</td>\n",
       "    </tr>\n",
       "    <tr>\n",
       "      <th>2</th>\n",
       "      <td>CB</td>\n",
       "      <td>MET</td>\n",
       "      <td>36.995998</td>\n",
       "      <td>40.456001</td>\n",
       "      <td>13.115</td>\n",
       "      <td>A</td>\n",
       "      <td>0.0</td>\n",
       "      <td>C</td>\n",
       "    </tr>\n",
       "    <tr>\n",
       "      <th>3</th>\n",
       "      <td>CG</td>\n",
       "      <td>MET</td>\n",
       "      <td>38.291000</td>\n",
       "      <td>41.233002</td>\n",
       "      <td>13.247</td>\n",
       "      <td>A</td>\n",
       "      <td>0.0</td>\n",
       "      <td>C</td>\n",
       "    </tr>\n",
       "    <tr>\n",
       "      <th>4</th>\n",
       "      <td>SD</td>\n",
       "      <td>MET</td>\n",
       "      <td>39.088001</td>\n",
       "      <td>41.395000</td>\n",
       "      <td>11.599</td>\n",
       "      <td>A</td>\n",
       "      <td>0.0</td>\n",
       "      <td>S</td>\n",
       "    </tr>\n",
       "    <tr>\n",
       "      <th>5</th>\n",
       "      <td>CE</td>\n",
       "      <td>MET</td>\n",
       "      <td>37.883999</td>\n",
       "      <td>41.042000</td>\n",
       "      <td>10.266</td>\n",
       "      <td>A</td>\n",
       "      <td>0.0</td>\n",
       "      <td>C</td>\n",
       "    </tr>\n",
       "    <tr>\n",
       "      <th>6</th>\n",
       "      <td>C</td>\n",
       "      <td>MET</td>\n",
       "      <td>36.331001</td>\n",
       "      <td>40.745998</td>\n",
       "      <td>10.550</td>\n",
       "      <td>A</td>\n",
       "      <td>0.0</td>\n",
       "      <td>C</td>\n",
       "    </tr>\n",
       "    <tr>\n",
       "      <th>7</th>\n",
       "      <td>O</td>\n",
       "      <td>MET</td>\n",
       "      <td>36.189999</td>\n",
       "      <td>39.987000</td>\n",
       "      <td>9.571</td>\n",
       "      <td>A</td>\n",
       "      <td>0.0</td>\n",
       "      <td>O</td>\n",
       "    </tr>\n",
       "    <tr>\n",
       "      <th>8</th>\n",
       "      <td>CA</td>\n",
       "      <td>SER</td>\n",
       "      <td>34.813000</td>\n",
       "      <td>42.979000</td>\n",
       "      <td>10.397</td>\n",
       "      <td>A</td>\n",
       "      <td>0.0</td>\n",
       "      <td>C</td>\n",
       "    </tr>\n",
       "    <tr>\n",
       "      <th>9</th>\n",
       "      <td>N</td>\n",
       "      <td>SER</td>\n",
       "      <td>35.916000</td>\n",
       "      <td>42.034000</td>\n",
       "      <td>10.615</td>\n",
       "      <td>A</td>\n",
       "      <td>0.0</td>\n",
       "      <td>N</td>\n",
       "    </tr>\n",
       "  </tbody>\n",
       "</table>\n",
       "</div>"
      ],
      "text/plain": [
       "  atom_name residue_name_x  feature_x  feature_y  feature_z chain_id_y  \\\n",
       "0        CA            MET  37.389999  40.466000     11.665          A   \n",
       "1         N            MET  38.473999  41.460999     11.588          A   \n",
       "2        CB            MET  36.995998  40.456001     13.115          A   \n",
       "3        CG            MET  38.291000  41.233002     13.247          A   \n",
       "4        SD            MET  39.088001  41.395000     11.599          A   \n",
       "5        CE            MET  37.883999  41.042000     10.266          A   \n",
       "6         C            MET  36.331001  40.745998     10.550          A   \n",
       "7         O            MET  36.189999  39.987000      9.571          A   \n",
       "8        CA            SER  34.813000  42.979000     10.397          A   \n",
       "9         N            SER  35.916000  42.034000     10.615          A   \n",
       "\n",
       "   b_factor_y element_symbol_y  \n",
       "0         0.0                C  \n",
       "1         0.0                N  \n",
       "2         0.0                C  \n",
       "3         0.0                C  \n",
       "4         0.0                S  \n",
       "5         0.0                C  \n",
       "6         0.0                C  \n",
       "7         0.0                O  \n",
       "8         0.0                C  \n",
       "9         0.0                N  "
      ]
     },
     "execution_count": 28,
     "metadata": {},
     "output_type": "execute_result"
    }
   ],
   "source": [
    "df=df.drop(['x_coord','y_coord', 'z_coord'],axis=1)\n",
    "df.head(10)"
   ]
  },
  {
   "cell_type": "code",
   "execution_count": 29,
   "metadata": {},
   "outputs": [],
   "source": [
    "df1, d, nas, mapper = proc_df(df, 'b_factor_y', do_scale=True)"
   ]
  },
  {
   "cell_type": "code",
   "execution_count": 30,
   "metadata": {},
   "outputs": [],
   "source": [
    "train_ratio = 0.9\n",
    "train_size = int(len(df1) * train_ratio); train_size\n",
    "val_idx = list(range(train_size, len(df1)))"
   ]
  },
  {
   "cell_type": "code",
   "execution_count": 31,
   "metadata": {},
   "outputs": [],
   "source": [
    "md = ColumnarModelData.from_data_frame(PATH, val_idx, df1, y.astype(np.float32), cat_flds=cat_vars, bs=128)"
   ]
  },
  {
   "cell_type": "code",
   "execution_count": 32,
   "metadata": {},
   "outputs": [],
   "source": [
    "cat_sz = [(c, len(df[c].cat.categories)+1) for c in cat_vars]"
   ]
  },
  {
   "cell_type": "code",
   "execution_count": 33,
   "metadata": {},
   "outputs": [
    {
     "data": {
      "text/plain": [
       "[('atom_name', 38),\n",
       " ('residue_name_x', 21),\n",
       " ('chain_id_y', 2),\n",
       " ('element_symbol_y', 5)]"
      ]
     },
     "execution_count": 33,
     "metadata": {},
     "output_type": "execute_result"
    }
   ],
   "source": [
    "cat_sz"
   ]
  },
  {
   "cell_type": "code",
   "execution_count": 34,
   "metadata": {},
   "outputs": [],
   "source": [
    "emb_szs = [(c, min(50, (c+1)//2)) for _,c in cat_sz]"
   ]
  },
  {
   "cell_type": "code",
   "execution_count": 35,
   "metadata": {},
   "outputs": [
    {
     "data": {
      "text/plain": [
       "[(38, 19), (21, 11), (2, 1), (5, 3)]"
      ]
     },
     "execution_count": 35,
     "metadata": {},
     "output_type": "execute_result"
    }
   ],
   "source": [
    "emb_szs"
   ]
  },
  {
   "cell_type": "code",
   "execution_count": 37,
   "metadata": {},
   "outputs": [],
   "source": [
    "m = md.get_learner(emb_szs, 3,0.08, 3, [1000,500,500,500,500,500,500], [0.3,0.3])"
   ]
  },
  {
   "cell_type": "code",
   "execution_count": 38,
   "metadata": {},
   "outputs": [],
   "source": [
    "m.crit = F.mse_loss"
   ]
  },
  {
   "cell_type": "code",
   "execution_count": 39,
   "metadata": {},
   "outputs": [],
   "source": [
    "# e = m.model\n",
    "# e.eval()"
   ]
  },
  {
   "cell_type": "code",
   "execution_count": 40,
   "metadata": {},
   "outputs": [
    {
     "data": {
      "application/vnd.jupyter.widget-view+json": {
       "model_id": "d8d75550bf2146939e1aef498135195c",
       "version_major": 2,
       "version_minor": 0
      },
      "text/plain": [
       "HBox(children=(IntProgress(value=0, description='Epoch', max=1), HTML(value='')))"
      ]
     },
     "metadata": {},
     "output_type": "display_data"
    },
    {
     "name": "stdout",
     "output_type": "stream",
     "text": [
      " 57%|█████▋    | 4967/8678 [00:26<00:19, 188.44it/s, loss=91.9]   "
     ]
    }
   ],
   "source": [
    "m.lr_find()"
   ]
  },
  {
   "cell_type": "code",
   "execution_count": 41,
   "metadata": {},
   "outputs": [
    {
     "data": {
      "image/png": "[encoded data removed]",
      "text/plain": [
       "<Figure size 432x288 with 1 Axes>"
      ]
     },
     "metadata": {},
     "output_type": "display_data"
    }
   ],
   "source": [
    "m.sched.plot(100)"
   ]
  },
  {
   "cell_type": "code",
   "execution_count": 42,
   "metadata": {},
   "outputs": [],
   "source": [
    "lr = 7e-4\n",
    "wd = 0"
   ]
  },
  {
   "cell_type": "code",
   "execution_count": 43,
   "metadata": {},
   "outputs": [
    {
     "data": {
      "application/vnd.jupyter.widget-view+json": {
       "model_id": "e37c3bbfc23a4ab0ab50e15150e28cf1",
       "version_major": 2,
       "version_minor": 0
      },
      "text/plain": [
       "HBox(children=(IntProgress(value=0, description='Epoch', max=40), HTML(value='')))"
      ]
     },
     "metadata": {},
     "output_type": "display_data"
    },
    {
     "name": "stdout",
     "output_type": "stream",
     "text": [
      "epoch      trn_loss   val_loss                                    \n",
      "    0      23.455204  3.526237  \n",
      "    1      17.766223  2.957681                                 \n",
      "    2      16.48361   2.889606                                 \n",
      "    3      17.115388  3.826996                                 \n",
      "    4      16.294975  2.925324                                 \n",
      "    5      15.932347  3.096341                                 \n",
      "    6      15.798093  2.839298                                 \n",
      "    7      16.343241  2.944253                                 \n",
      "    8      15.832714  3.044501                                 \n",
      "    9      15.805845  2.922197                                 \n",
      "    10     16.127235  2.844241                                 \n",
      "    11     16.192173  3.542206                                 \n",
      "    12     16.381223  3.765264                                 \n",
      "    13     15.909499  3.058886                                 \n",
      "    14     15.696132  3.411673                                 \n",
      "    15     15.87478   3.381006                                 \n",
      "    16     15.441369  3.233268                                 \n",
      "    17     15.622433  3.186145                                 \n",
      "    18     15.830007  3.151814                                 \n",
      "    19     14.854149  2.892664                                 \n",
      "    20     14.63955   3.114673                                 \n",
      "    21     15.541533  2.782795                                 \n",
      "    22     15.09751   2.854398                                 \n",
      "    23     15.063581  2.723949                                 \n",
      "    24     15.015732  2.949866                                 \n",
      "    25     15.44978   3.022404                                 \n",
      "    26     14.126366  2.8049                                   \n",
      "    27     15.046918  2.81999                                  \n",
      "    28     14.701124  2.754189                                 \n",
      "    29     14.698278  2.687669                                 \n",
      "    30     15.261893  2.817114                                 \n",
      "    31     14.969775  2.677684                                 \n",
      "    32     14.708649  2.802308                                 \n",
      "    33     14.773742  2.666932                                 \n",
      "    34     14.306325  2.629494                                 \n",
      "    35     15.024781  2.570466                                 \n",
      "    36     14.791379  2.613585                                 \n",
      "    37     14.23437   2.640785                                 \n",
      "    38     13.934866  2.716427                                 \n",
      "    39     14.618418  2.559622                                 \n"
     ]
    },
    {
     "data": {
      "text/plain": [
       "[array([2.55962])]"
      ]
     },
     "execution_count": 43,
     "metadata": {},
     "output_type": "execute_result"
    }
   ],
   "source": [
    "m.fit(lr, 1, wds=wd, cycle_len=40, use_clr=(8,3))"
   ]
  },
  {
   "cell_type": "code",
   "execution_count": 44,
   "metadata": {},
   "outputs": [],
   "source": [
    "m.save('m_feature')"
   ]
  },
  {
   "cell_type": "code",
   "execution_count": 45,
   "metadata": {},
   "outputs": [
    {
     "data": {
      "text/plain": [
       "MixedInputModel(\n",
       "  (embs): ModuleList(\n",
       "    (0): Embedding(38, 19)\n",
       "    (1): Embedding(21, 11)\n",
       "    (2): Embedding(2, 1)\n",
       "    (3): Embedding(5, 3)\n",
       "  )\n",
       "  (lins): ModuleList(\n",
       "    (0): Linear(in_features=37, out_features=1000, bias=True)\n",
       "    (1): Linear(in_features=1000, out_features=500, bias=True)\n",
       "    (2): Linear(in_features=500, out_features=500, bias=True)\n",
       "    (3): Linear(in_features=500, out_features=500, bias=True)\n",
       "    (4): Linear(in_features=500, out_features=500, bias=True)\n",
       "    (5): Linear(in_features=500, out_features=500, bias=True)\n",
       "    (6): Linear(in_features=500, out_features=500, bias=True)\n",
       "  )\n",
       "  (bns): ModuleList(\n",
       "    (0): BatchNorm1d(1000, eps=1e-05, momentum=0.1, affine=True)\n",
       "    (1): BatchNorm1d(500, eps=1e-05, momentum=0.1, affine=True)\n",
       "    (2): BatchNorm1d(500, eps=1e-05, momentum=0.1, affine=True)\n",
       "    (3): BatchNorm1d(500, eps=1e-05, momentum=0.1, affine=True)\n",
       "    (4): BatchNorm1d(500, eps=1e-05, momentum=0.1, affine=True)\n",
       "    (5): BatchNorm1d(500, eps=1e-05, momentum=0.1, affine=True)\n",
       "    (6): BatchNorm1d(500, eps=1e-05, momentum=0.1, affine=True)\n",
       "  )\n",
       "  (outp): Linear(in_features=500, out_features=3, bias=True)\n",
       "  (emb_drop): Dropout(p=0.08)\n",
       "  (drops): ModuleList(\n",
       "    (0): Dropout(p=0.3)\n",
       "    (1): Dropout(p=0.3)\n",
       "  )\n",
       "  (bn): BatchNorm1d(3, eps=1e-05, momentum=0.1, affine=True)\n",
       ")"
      ]
     },
     "execution_count": 45,
     "metadata": {},
     "output_type": "execute_result"
    }
   ],
   "source": [
    "e = m.model\n",
    "e.eval()"
   ]
  },
  {
   "cell_type": "code",
   "execution_count": 28,
   "metadata": {},
   "outputs": [],
   "source": [
    "import plotly.plotly as py\n",
    "import plotly.graph_objs as go\n",
    "import plotly\n",
    "from plotly.offline import download_plotlyjs, init_notebook_mode, plot, iplot"
   ]
  },
  {
   "cell_type": "code",
   "execution_count": 29,
   "metadata": {},
   "outputs": [
    {
     "name": "stderr",
     "output_type": "stream",
     "text": [
      "/home/bahram/anaconda3/envs/fastai/lib/python3.6/site-packages/scipy/stats/stats.py:1713: FutureWarning:\n",
      "\n",
      "Using a non-tuple sequence for multidimensional indexing is deprecated; use `arr[tuple(seq)]` instead of `arr[seq]`. In the future this will be interpreted as an array index, `arr[np.array(seq)]`, which will result either in an error or a different result.\n",
      "\n"
     ]
    },
    {
     "data": {
      "image/png": "[encoded data removed]",
      "text/plain": [
       "<Figure size 1080x360 with 1 Axes>"
      ]
     },
     "metadata": {},
     "output_type": "display_data"
    }
   ],
   "source": [
    "## 1. Deal Probability Distribution\n",
    "def generate_histogram_plot(df, col, title):\n",
    "    trace = go.Histogram(x = df[col]) \n",
    "    layout = go.Layout(title=title, legend=dict(orientation=\"h\"), height=400)\n",
    "    fig = go.Figure(data=[trace], layout=layout)\n",
    "    iplot(fig)\n",
    "\n",
    "\n",
    "# generate_histogram_plot(train_df, 'deal_probability', 'Distribution of Deal Probability')\n",
    "plt.figure(figsize=(15,5))\n",
    "sns.distplot(df[\"x_coord\"].values, bins=120, color=\"#ff002e\")\n",
    "plt.xlabel('x_coord', fontsize=14);\n",
    "plt.title(\"Distribution of x_coord\", fontsize=14);\n",
    "plt.show();"
   ]
  },
  {
   "cell_type": "code",
   "execution_count": 30,
   "metadata": {},
   "outputs": [
    {
     "data": {
      "text/plain": [
       "Index(['atom_number', 'atom_name', 'residue_name', 'chain_id',\n",
       "       'residue_number', 'x_coord', 'y_coord', 'z_coord', 'b_factor',\n",
       "       'element_symbol', 'x_ca', 'y_ca', 'z_ca'],\n",
       "      dtype='object')"
      ]
     },
     "execution_count": 30,
     "metadata": {},
     "output_type": "execute_result"
    }
   ],
   "source": [
    "cols = df.columns\n",
    "cols"
   ]
  },
  {
   "cell_type": "code",
   "execution_count": 31,
   "metadata": {},
   "outputs": [],
   "source": [
    "def _generate_bar_plot_hor(df, col, title, color, w=None, h=None, lm=0, limit=100):\n",
    "    cnt_srs = df[col].value_counts()[:limit]\n",
    "    trace = go.Bar(y=cnt_srs.index[::-1], x=cnt_srs.values[::-1], orientation = 'h',\n",
    "        marker=dict(color=color))\n",
    "\n",
    "    layout = dict(title=title, margin=dict(l=lm), width=w, height=h)\n",
    "    data = [trace]\n",
    "    fig = go.Figure(data=data, layout=layout)\n",
    "    iplot(fig)\n",
    "\n",
    "def _generate_bar_plot_ver(df, col, title, color, w=None, h=None, lm=0, limit=100, need_trace = False):\n",
    "    cnt_srs = df[col].value_counts()[:limit]\n",
    "    trace = go.Bar(x=list(cnt_srs.index), y=list(cnt_srs.values),\n",
    "        marker=dict(color = color))\n",
    "    if need_trace:\n",
    "        return trace\n",
    "    if w != None and h != None:\n",
    "        layout = dict(title=title, margin=dict(l=lm), width=w, height=h)\n",
    "    else:\n",
    "        layout = dict(title=title, margin=dict(l=lm))\n",
    "    data = [trace]\n",
    "    fig = go.Figure(data=data, layout=layout)\n",
    "    iplot(fig)\n",
    "\n",
    "\n"
   ]
  },
  {
   "cell_type": "code",
   "execution_count": 56,
   "metadata": {},
   "outputs": [
    {
     "data": {
      "application/vnd.plotly.v1+json": {
       "data": [
        {
         "marker": {
          "color": "#66f992"
         },
         "orientation": "h",
         "type": "bar",
         "uid": "838bc7d4-a47a-11e8-a63b-38d5470034f4",
         "x": [
          3705,
          6105,
          8822,
          11558,
          12672,
          13725,
          14492,
          15533,
          16179,
          16320,
          18141,
          18983,
          19348,
          20475,
          21642,
          22488,
          23216,
          25645,
          26165,
          34786
         ],
         "y": [
          "CYS",
          "MET",
          "TRP",
          "HIS",
          "GLY",
          "PRO",
          "GLN",
          "ASN",
          "SER",
          "THR",
          "ALA",
          "TYR",
          "PHE",
          "ASP",
          "ILE",
          "VAL",
          "LYS",
          "ARG",
          "GLU",
          "LEU"
         ]
        }
       ],
       "layout": {
        "height": 500,
        "margin": {
         "l": 200
        },
        "title": "Distribution of residues",
        "width": 600
       }
      },
      "text/html": [
       "<div id=\"1dc1b112-4eae-496f-9a62-5f4340dbff62\" style=\"height: 500px; width: 600px;\" class=\"plotly-graph-div\"></div><script type=\"text/javascript\">require([\"plotly\"], function(Plotly) { window.PLOTLYENV=window.PLOTLYENV || {};window.PLOTLYENV.BASE_URL=\"https://plot.ly\";\n",
       "        Plotly.plot(\n",
       "            '1dc1b112-4eae-496f-9a62-5f4340dbff62',\n",
       "            [{\"marker\": {\"color\": \"#66f992\"}, \"orientation\": \"h\", \"x\": [3705.0, 6105.0, 8822.0, 11558.0, 12672.0, 13725.0, 14492.0, 15533.0, 16179.0, 16320.0, 18141.0, 18983.0, 19348.0, 20475.0, 21642.0, 22488.0, 23216.0, 25645.0, 26165.0, 34786.0], \"y\": [\"CYS\", \"MET\", \"TRP\", \"HIS\", \"GLY\", \"PRO\", \"GLN\", \"ASN\", \"SER\", \"THR\", \"ALA\", \"TYR\", \"PHE\", \"ASP\", \"ILE\", \"VAL\", \"LYS\", \"ARG\", \"GLU\", \"LEU\"], \"type\": \"bar\", \"uid\": \"838bc7d4-a47a-11e8-a63b-38d5470034f4\"}],\n",
       "            {\"height\": 500, \"margin\": {\"l\": 200}, \"title\": \"Distribution of residues\", \"width\": 600},\n",
       "            {\"showLink\": true, \"linkText\": \"Export to plot.ly\"}\n",
       "        ).then(function () {return Plotly.addFrames('1dc1b112-4eae-496f-9a62-5f4340dbff62',{});}).then(function(){Plotly.animate('1dc1b112-4eae-496f-9a62-5f4340dbff62');})\n",
       "        });</script>"
      ],
      "text/vnd.plotly.v1+html": [
       "<div id=\"1dc1b112-4eae-496f-9a62-5f4340dbff62\" style=\"height: 500px; width: 600px;\" class=\"plotly-graph-div\"></div><script type=\"text/javascript\">require([\"plotly\"], function(Plotly) { window.PLOTLYENV=window.PLOTLYENV || {};window.PLOTLYENV.BASE_URL=\"https://plot.ly\";\n",
       "        Plotly.plot(\n",
       "            '1dc1b112-4eae-496f-9a62-5f4340dbff62',\n",
       "            [{\"marker\": {\"color\": \"#66f992\"}, \"orientation\": \"h\", \"x\": [3705.0, 6105.0, 8822.0, 11558.0, 12672.0, 13725.0, 14492.0, 15533.0, 16179.0, 16320.0, 18141.0, 18983.0, 19348.0, 20475.0, 21642.0, 22488.0, 23216.0, 25645.0, 26165.0, 34786.0], \"y\": [\"CYS\", \"MET\", \"TRP\", \"HIS\", \"GLY\", \"PRO\", \"GLN\", \"ASN\", \"SER\", \"THR\", \"ALA\", \"TYR\", \"PHE\", \"ASP\", \"ILE\", \"VAL\", \"LYS\", \"ARG\", \"GLU\", \"LEU\"], \"type\": \"bar\", \"uid\": \"838bc7d4-a47a-11e8-a63b-38d5470034f4\"}],\n",
       "            {\"height\": 500, \"margin\": {\"l\": 200}, \"title\": \"Distribution of residues\", \"width\": 600},\n",
       "            {\"showLink\": true, \"linkText\": \"Export to plot.ly\"}\n",
       "        ).then(function () {return Plotly.addFrames('1dc1b112-4eae-496f-9a62-5f4340dbff62',{});}).then(function(){Plotly.animate('1dc1b112-4eae-496f-9a62-5f4340dbff62');})\n",
       "        });</script>"
      ]
     },
     "metadata": {},
     "output_type": "display_data"
    }
   ],
   "source": [
    "_generate_bar_plot_hor(df, cols[2], \"Distribution of residues\", '#66f992', 600, 500, 200, limit=30)"
   ]
  },
  {
   "cell_type": "code",
   "execution_count": 51,
   "metadata": {},
   "outputs": [],
   "source": [
    "from plotly import tools"
   ]
  },
  {
   "cell_type": "code",
   "execution_count": 53,
   "metadata": {},
   "outputs": [
    {
     "data": {
      "text/html": [
       "<script>requirejs.config({paths: { 'plotly': ['https://cdn.plot.ly/plotly-latest.min']},});if(!window.Plotly) {{require(['plotly'],function(plotly) {window.Plotly=plotly;});}}</script>"
      ],
      "text/vnd.plotly.v1+html": [
       "<script>requirejs.config({paths: { 'plotly': ['https://cdn.plot.ly/plotly-latest.min']},});if(!window.Plotly) {{require(['plotly'],function(plotly) {window.Plotly=plotly;});}}</script>"
      ]
     },
     "metadata": {},
     "output_type": "display_data"
    }
   ],
   "source": [
    "init_notebook_mode(connected=True)"
   ]
  },
  {
   "cell_type": "code",
   "execution_count": 62,
   "metadata": {},
   "outputs": [
    {
     "data": {
      "application/vnd.plotly.v1+json": {
       "data": [
        {
         "marker": {
          "color": "#1bf7bc"
         },
         "type": "bar",
         "uid": "3d630324-a47c-11e8-a63b-38d5470034f4",
         "x": [
          "LEU",
          "GLU",
          "ARG",
          "LYS",
          "VAL",
          "ILE",
          "ASP",
          "PHE",
          "TYR",
          "ALA",
          "THR",
          "SER",
          "ASN",
          "GLN",
          "PRO",
          "GLY",
          "HIS",
          "TRP",
          "MET",
          "CYS"
         ],
         "xaxis": "x",
         "y": [
          34786,
          26165,
          25645,
          23216,
          22488,
          21642,
          20475,
          19348,
          18983,
          18141,
          16320,
          16179,
          15533,
          14492,
          13725,
          12672,
          11558,
          8822,
          6105,
          3705
         ],
         "yaxis": "y"
        },
        {
         "marker": {
          "color": "#1bf7bc"
         },
         "type": "bar",
         "uid": "3d63b8e6-a47c-11e8-a63b-38d5470034f4",
         "x": [
          "C",
          "O",
          "N",
          "H",
          "S"
         ],
         "xaxis": "x2",
         "y": [
          204561,
          60879,
          55531,
          27782,
          1247
         ],
         "yaxis": "y2"
        }
       ],
       "layout": {
        "annotations": [
         {
          "font": {
           "size": 16
          },
          "showarrow": false,
          "text": "residues Values",
          "x": 0.225,
          "xanchor": "center",
          "xref": "paper",
          "y": 1,
          "yanchor": "bottom",
          "yref": "paper"
         },
         {
          "font": {
           "size": 16
          },
          "showarrow": false,
          "text": "element symbol",
          "x": 0.775,
          "xanchor": "center",
          "xref": "paper",
          "y": 1,
          "yanchor": "bottom",
          "yref": "paper"
         }
        ],
        "height": 400,
        "showlegend": false,
        "title": "Top Values",
        "xaxis": {
         "anchor": "y",
         "domain": [
          0,
          0.45
         ]
        },
        "xaxis2": {
         "anchor": "y2",
         "domain": [
          0.55,
          1
         ]
        },
        "yaxis": {
         "anchor": "x",
         "domain": [
          0,
          1
         ]
        },
        "yaxis2": {
         "anchor": "x2",
         "domain": [
          0,
          1
         ]
        }
       }
      },
      "text/html": [
       "<div id=\"47118fba-3f90-4246-9aa2-02993e49b2f9\" style=\"height: 400px; width: 100%;\" class=\"plotly-graph-div\"></div><script type=\"text/javascript\">require([\"plotly\"], function(Plotly) { window.PLOTLYENV=window.PLOTLYENV || {};window.PLOTLYENV.BASE_URL=\"https://plot.ly\";\n",
       "        Plotly.plot(\n",
       "            '47118fba-3f90-4246-9aa2-02993e49b2f9',\n",
       "            [{\"marker\": {\"color\": \"#1bf7bc\"}, \"x\": [\"LEU\", \"GLU\", \"ARG\", \"LYS\", \"VAL\", \"ILE\", \"ASP\", \"PHE\", \"TYR\", \"ALA\", \"THR\", \"SER\", \"ASN\", \"GLN\", \"PRO\", \"GLY\", \"HIS\", \"TRP\", \"MET\", \"CYS\"], \"y\": [34786, 26165, 25645, 23216, 22488, 21642, 20475, 19348, 18983, 18141, 16320, 16179, 15533, 14492, 13725, 12672, 11558, 8822, 6105, 3705], \"type\": \"bar\", \"uid\": \"3d630324-a47c-11e8-a63b-38d5470034f4\", \"xaxis\": \"x\", \"yaxis\": \"y\"}, {\"marker\": {\"color\": \"#1bf7bc\"}, \"x\": [\"C\", \"O\", \"N\", \"H\", \"S\"], \"y\": [204561, 60879, 55531, 27782, 1247], \"type\": \"bar\", \"uid\": \"3d63b8e6-a47c-11e8-a63b-38d5470034f4\", \"xaxis\": \"x2\", \"yaxis\": \"y2\"}],\n",
       "            {\"annotations\": [{\"font\": {\"size\": 16}, \"showarrow\": false, \"text\": \"residues Values\", \"x\": 0.225, \"xanchor\": \"center\", \"xref\": \"paper\", \"y\": 1.0, \"yanchor\": \"bottom\", \"yref\": \"paper\"}, {\"font\": {\"size\": 16}, \"showarrow\": false, \"text\": \"element symbol\", \"x\": 0.775, \"xanchor\": \"center\", \"xref\": \"paper\", \"y\": 1.0, \"yanchor\": \"bottom\", \"yref\": \"paper\"}], \"xaxis\": {\"anchor\": \"y\", \"domain\": [0.0, 0.45]}, \"yaxis\": {\"anchor\": \"x\", \"domain\": [0.0, 1.0]}, \"xaxis2\": {\"anchor\": \"y2\", \"domain\": [0.55, 1.0]}, \"yaxis2\": {\"anchor\": \"x2\", \"domain\": [0.0, 1.0]}, \"height\": 400, \"title\": \"Top Values\", \"showlegend\": false},\n",
       "            {\"showLink\": true, \"linkText\": \"Export to plot.ly\"}\n",
       "        ).then(function () {return Plotly.addFrames('47118fba-3f90-4246-9aa2-02993e49b2f9',{});}).then(function(){Plotly.animate('47118fba-3f90-4246-9aa2-02993e49b2f9');})\n",
       "        });</script>"
      ],
      "text/vnd.plotly.v1+html": [
       "<div id=\"47118fba-3f90-4246-9aa2-02993e49b2f9\" style=\"height: 400px; width: 100%;\" class=\"plotly-graph-div\"></div><script type=\"text/javascript\">require([\"plotly\"], function(Plotly) { window.PLOTLYENV=window.PLOTLYENV || {};window.PLOTLYENV.BASE_URL=\"https://plot.ly\";\n",
       "        Plotly.plot(\n",
       "            '47118fba-3f90-4246-9aa2-02993e49b2f9',\n",
       "            [{\"marker\": {\"color\": \"#1bf7bc\"}, \"x\": [\"LEU\", \"GLU\", \"ARG\", \"LYS\", \"VAL\", \"ILE\", \"ASP\", \"PHE\", \"TYR\", \"ALA\", \"THR\", \"SER\", \"ASN\", \"GLN\", \"PRO\", \"GLY\", \"HIS\", \"TRP\", \"MET\", \"CYS\"], \"y\": [34786, 26165, 25645, 23216, 22488, 21642, 20475, 19348, 18983, 18141, 16320, 16179, 15533, 14492, 13725, 12672, 11558, 8822, 6105, 3705], \"type\": \"bar\", \"uid\": \"3d630324-a47c-11e8-a63b-38d5470034f4\", \"xaxis\": \"x\", \"yaxis\": \"y\"}, {\"marker\": {\"color\": \"#1bf7bc\"}, \"x\": [\"C\", \"O\", \"N\", \"H\", \"S\"], \"y\": [204561, 60879, 55531, 27782, 1247], \"type\": \"bar\", \"uid\": \"3d63b8e6-a47c-11e8-a63b-38d5470034f4\", \"xaxis\": \"x2\", \"yaxis\": \"y2\"}],\n",
       "            {\"annotations\": [{\"font\": {\"size\": 16}, \"showarrow\": false, \"text\": \"residues Values\", \"x\": 0.225, \"xanchor\": \"center\", \"xref\": \"paper\", \"y\": 1.0, \"yanchor\": \"bottom\", \"yref\": \"paper\"}, {\"font\": {\"size\": 16}, \"showarrow\": false, \"text\": \"element symbol\", \"x\": 0.775, \"xanchor\": \"center\", \"xref\": \"paper\", \"y\": 1.0, \"yanchor\": \"bottom\", \"yref\": \"paper\"}], \"xaxis\": {\"anchor\": \"y\", \"domain\": [0.0, 0.45]}, \"yaxis\": {\"anchor\": \"x\", \"domain\": [0.0, 1.0]}, \"xaxis2\": {\"anchor\": \"y2\", \"domain\": [0.55, 1.0]}, \"yaxis2\": {\"anchor\": \"x2\", \"domain\": [0.0, 1.0]}, \"height\": 400, \"title\": \"Top Values\", \"showlegend\": false},\n",
       "            {\"showLink\": true, \"linkText\": \"Export to plot.ly\"}\n",
       "        ).then(function () {return Plotly.addFrames('47118fba-3f90-4246-9aa2-02993e49b2f9',{});}).then(function(){Plotly.animate('47118fba-3f90-4246-9aa2-02993e49b2f9');})\n",
       "        });</script>"
      ]
     },
     "metadata": {},
     "output_type": "display_data"
    }
   ],
   "source": [
    "trace1 = _generate_bar_plot_ver(df, cols[2], \"Param 1 Values\", '#1bf7bc', 700, 400, 200, limit=30, need_trace = True)\n",
    "trace2 = _generate_bar_plot_ver(df, cols[9], \"Param 2 Values\", '#1bf7bc', 700, 400, 200, limit=30, need_trace = True)\n",
    "trace3 = _generate_bar_plot_ver(df, cols[4], \"Param 3 Values\", '#1bf7bc', 700, 400, 200, limit=30, need_trace = True)\n",
    "\n",
    "fig = tools.make_subplots(rows=1, cols=2, print_grid=False, subplot_titles = ['residues Values','element symbol'])\n",
    "fig.append_trace(trace1, 1, 1);\n",
    "fig.append_trace(trace2, 1, 2);\n",
    "# fig.append_trace(trace3, 1, 3);\n",
    "\n",
    "fig['layout'].update(height=400,title='Top Values', showlegend=False);\n",
    "iplot(fig); "
   ]
  },
  {
   "cell_type": "code",
   "execution_count": 58,
   "metadata": {},
   "outputs": [
    {
     "data": {
      "application/vnd.plotly.v1+json": {
       "data": [
        {
         "labels": [
          "LEU",
          "GLU",
          "ARG",
          "LYS",
          "VAL",
          "ILE",
          "ASP",
          "PHE",
          "TYR",
          "ALA",
          "THR",
          "SER",
          "ASN",
          "GLN",
          "PRO",
          "GLY",
          "HIS",
          "TRP",
          "MET",
          "CYS"
         ],
         "marker": {
          "colors": [
           "#f9c968",
           "#75e575",
           "#d693b3"
          ]
         },
         "type": "pie",
         "uid": "ead1ba3e-a47a-11e8-a63b-38d5470034f4",
         "values": [
          34786,
          26165,
          25645,
          23216,
          22488,
          21642,
          20475,
          19348,
          18983,
          18141,
          16320,
          16179,
          15533,
          14492,
          13725,
          12672,
          11558,
          8822,
          6105,
          3705
         ]
        }
       ],
       "layout": {
        "height": 400,
        "margin": {
         "l": 100
        },
        "title": "Distribution of residues",
        "width": 600
       }
      },
      "text/html": [
       "<div id=\"b73554d2-372d-4852-b3d6-4fd02aa23a45\" style=\"height: 400px; width: 600px;\" class=\"plotly-graph-div\"></div><script type=\"text/javascript\">require([\"plotly\"], function(Plotly) { window.PLOTLYENV=window.PLOTLYENV || {};window.PLOTLYENV.BASE_URL=\"https://plot.ly\";\n",
       "        Plotly.plot(\n",
       "            'b73554d2-372d-4852-b3d6-4fd02aa23a45',\n",
       "            [{\"labels\": [\"LEU\", \"GLU\", \"ARG\", \"LYS\", \"VAL\", \"ILE\", \"ASP\", \"PHE\", \"TYR\", \"ALA\", \"THR\", \"SER\", \"ASN\", \"GLN\", \"PRO\", \"GLY\", \"HIS\", \"TRP\", \"MET\", \"CYS\"], \"marker\": {\"colors\": [\"#f9c968\", \"#75e575\", \"#d693b3\"]}, \"values\": [34786, 26165, 25645, 23216, 22488, 21642, 20475, 19348, 18983, 18141, 16320, 16179, 15533, 14492, 13725, 12672, 11558, 8822, 6105, 3705], \"type\": \"pie\", \"uid\": \"ead1ba3e-a47a-11e8-a63b-38d5470034f4\"}],\n",
       "            {\"height\": 400, \"margin\": {\"l\": 100}, \"title\": \"Distribution of residues\", \"width\": 600},\n",
       "            {\"showLink\": true, \"linkText\": \"Export to plot.ly\"}\n",
       "        ).then(function () {return Plotly.addFrames('b73554d2-372d-4852-b3d6-4fd02aa23a45',{});}).then(function(){Plotly.animate('b73554d2-372d-4852-b3d6-4fd02aa23a45');})\n",
       "        });</script>"
      ],
      "text/vnd.plotly.v1+html": [
       "<div id=\"b73554d2-372d-4852-b3d6-4fd02aa23a45\" style=\"height: 400px; width: 600px;\" class=\"plotly-graph-div\"></div><script type=\"text/javascript\">require([\"plotly\"], function(Plotly) { window.PLOTLYENV=window.PLOTLYENV || {};window.PLOTLYENV.BASE_URL=\"https://plot.ly\";\n",
       "        Plotly.plot(\n",
       "            'b73554d2-372d-4852-b3d6-4fd02aa23a45',\n",
       "            [{\"labels\": [\"LEU\", \"GLU\", \"ARG\", \"LYS\", \"VAL\", \"ILE\", \"ASP\", \"PHE\", \"TYR\", \"ALA\", \"THR\", \"SER\", \"ASN\", \"GLN\", \"PRO\", \"GLY\", \"HIS\", \"TRP\", \"MET\", \"CYS\"], \"marker\": {\"colors\": [\"#f9c968\", \"#75e575\", \"#d693b3\"]}, \"values\": [34786, 26165, 25645, 23216, 22488, 21642, 20475, 19348, 18983, 18141, 16320, 16179, 15533, 14492, 13725, 12672, 11558, 8822, 6105, 3705], \"type\": \"pie\", \"uid\": \"ead1ba3e-a47a-11e8-a63b-38d5470034f4\"}],\n",
       "            {\"height\": 400, \"margin\": {\"l\": 100}, \"title\": \"Distribution of residues\", \"width\": 600},\n",
       "            {\"showLink\": true, \"linkText\": \"Export to plot.ly\"}\n",
       "        ).then(function () {return Plotly.addFrames('b73554d2-372d-4852-b3d6-4fd02aa23a45',{});}).then(function(){Plotly.animate('b73554d2-372d-4852-b3d6-4fd02aa23a45');})\n",
       "        });</script>"
      ]
     },
     "metadata": {},
     "output_type": "display_data"
    }
   ],
   "source": [
    "def _create_pie_chart(df, col):\n",
    "    tm = df[col].value_counts()\n",
    "    labels = list(tm.index)\n",
    "    values = list(tm.values)\n",
    "    trace = go.Pie(labels=labels, values=values, marker=dict(colors=['#f9c968', '#75e575', '#d693b3']))\n",
    "    return trace\n",
    "trace1 = _create_pie_chart(df, 'residue_name')\n",
    "layout = go.Layout(title='Distribution of residues', width=600, height=400, margin=dict(l=100))\n",
    "data = [trace1]\n",
    "fig = go.Figure(data=data, layout=layout)\n",
    "iplot(fig)"
   ]
  },
  {
   "cell_type": "code",
   "execution_count": 60,
   "metadata": {},
   "outputs": [
    {
     "data": {
      "image/png": "[encoded data removed]",
      "text/plain": [
       "<Figure size 720x576 with 2 Axes>"
      ]
     },
     "metadata": {},
     "output_type": "display_data"
    }
   ],
   "source": [
    "corr =df.corr()\n",
    "mask = np.zeros_like(corr, dtype=np.bool)\n",
    "mask[np.triu_indices_from(mask)] = True\n",
    "sns.set(style=\"white\")\n",
    "\n",
    "f, ax = plt.subplots(figsize=(10, 8))\n",
    "cmap = sns.diverging_palette(30, 10, as_cmap=True)\n",
    "sns.heatmap(corr, mask=mask, cmap=cmap, vmax=.3, center=0, square=True, linewidths=.1, cbar_kws={\"shrink\": .5});"
   ]
  },
  {
   "cell_type": "code",
   "execution_count": 46,
   "metadata": {},
   "outputs": [],
   "source": [
    "x,y = m.predict_with_targs()"
   ]
  },
  {
   "cell_type": "code",
   "execution_count": 47,
   "metadata": {},
   "outputs": [
    {
     "data": {
      "text/plain": [
       "(123407, 1, 3)"
      ]
     },
     "execution_count": 47,
     "metadata": {},
     "output_type": "execute_result"
    }
   ],
   "source": [
    "y.shape"
   ]
  },
  {
   "cell_type": "code",
   "execution_count": 48,
   "metadata": {},
   "outputs": [],
   "source": [
    "y=y.reshape(123407,3)"
   ]
  },
  {
   "cell_type": "code",
   "execution_count": 49,
   "metadata": {},
   "outputs": [],
   "source": [
    "error = y-x"
   ]
  },
  {
   "cell_type": "code",
   "execution_count": 50,
   "metadata": {},
   "outputs": [
    {
     "data": {
      "text/plain": [
       "array([[ 0.30798,  0.04313,  0.33871],\n",
       "       [ 0.64635, -0.19143, -0.48728],\n",
       "       [ 0.65603,  0.59746, -0.50293],\n",
       "       [-1.06471, -1.77314, -0.20647],\n",
       "       [ 0.68792,  1.8651 , -1.11209],\n",
       "       [ 1.02374,  1.24341, -0.17656],\n",
       "       [ 0.17626,  0.14827,  0.40594],\n",
       "       [ 0.36362,  0.68279,  0.35646],\n",
       "       [ 0.18826,  0.14248, -0.08515],\n",
       "       [-0.70394, -0.21831,  0.66747],\n",
       "       [ 0.19995,  1.22409, -0.29191],\n",
       "       [ 0.36218,  0.30731, -2.8115 ],\n",
       "       [ 0.73039, -1.10464, -2.07915],\n",
       "       [ 1.20822, -2.57168, -1.80883],\n",
       "       [ 0.70606, -0.0594 , -2.3788 ],\n",
       "       [ 0.0419 , -0.09395,  0.20232],\n",
       "       [ 0.21497, -0.20946,  0.43375],\n",
       "       [ 0.35527,  0.09656, -0.07401],\n",
       "       [ 0.4923 , -0.06145, -0.13227],\n",
       "       [ 0.47586, -0.0654 ,  0.09586],\n",
       "       ...,\n",
       "       [ 0.39359, -1.24972,  0.06448],\n",
       "       [-1.13609, -3.37736,  0.25511],\n",
       "       [-0.59186, -4.33561,  0.17388],\n",
       "       [-2.04348, -6.7347 ,  0.3258 ],\n",
       "       [-3.13684, -6.8942 , -1.29903],\n",
       "       [ 0.5334 , -0.69478, -0.03315],\n",
       "       [ 1.09848, -1.28557,  0.06444],\n",
       "       [ 0.08593, -0.14534, -0.04022],\n",
       "       [ 0.15893, -0.34671,  0.05164],\n",
       "       [ 0.55104,  0.74117,  0.1006 ],\n",
       "       [-0.71392, -0.08702,  0.43688],\n",
       "       [-0.05287,  1.02001,  0.34228],\n",
       "       [-2.82905, -0.65806, -0.99682],\n",
       "       [-0.20569, -0.07697, -0.09436],\n",
       "       [-0.71974, -0.20811, -0.12222],\n",
       "       [-0.14707,  0.05053, -0.30953],\n",
       "       [ 0.50431,  0.22085, -0.38714],\n",
       "       [-1.87294, -0.76467,  0.81719],\n",
       "       [-0.44803, -0.47122, -0.87462],\n",
       "       [-0.31023, -0.02404, -2.74989]], dtype=float32)"
      ]
     },
     "execution_count": 50,
     "metadata": {},
     "output_type": "execute_result"
    }
   ],
   "source": [
    "error"
   ]
  },
  {
   "cell_type": "code",
   "execution_count": null,
   "metadata": {},
   "outputs": [],
   "source": []
  },
  {
   "cell_type": "code",
   "execution_count": null,
   "metadata": {},
   "outputs": [],
   "source": []
  },
  {
   "cell_type": "code",
   "execution_count": 51,
   "metadata": {},
   "outputs": [],
   "source": [
    "abs_error = abs(error)"
   ]
  },
  {
   "cell_type": "code",
   "execution_count": 52,
   "metadata": {},
   "outputs": [
    {
     "data": {
      "text/plain": [
       "1.0725303"
      ]
     },
     "execution_count": 52,
     "metadata": {},
     "output_type": "execute_result"
    }
   ],
   "source": [
    "abs_error.mean()"
   ]
  },
  {
   "cell_type": "code",
   "execution_count": 175,
   "metadata": {},
   "outputs": [
    {
     "data": {
      "text/plain": [
       "array([[ 0.05252, 55.39627, 12.9027 ],\n",
       "       [-1.65923, 53.78876, 16.26591],\n",
       "       [-1.65371, 53.85696, 16.22474],\n",
       "       [-1.528  , 53.89463, 16.37074],\n",
       "       [-1.47129, 53.95329, 16.43474],\n",
       "       [-2.05965, 53.75644, 16.05489],\n",
       "       [-1.87269, 53.71476, 16.19342],\n",
       "       [-1.96162, 53.69075, 16.21448],\n",
       "       [-2.22459, 54.09946, 16.88316],\n",
       "       [-4.22157, 55.60457, 16.66744],\n",
       "       [-4.19673, 55.49461, 16.65507],\n",
       "       [-4.13814, 55.58257, 16.72759],\n",
       "       [-4.22689, 55.52577, 16.80235],\n",
       "       [-4.62861, 55.6029 , 16.80062],\n",
       "       [-4.49895, 55.56804, 16.7992 ],\n",
       "       [-5.02212, 55.17744, 13.42948],\n",
       "       [-5.05959, 55.18295, 13.43347],\n",
       "       [-4.93824, 55.27827, 13.59846],\n",
       "       [-4.87242, 55.26395, 13.63608],\n",
       "       [-5.25499, 55.56884, 12.94852],\n",
       "       ...,\n",
       "       [19.73734, 46.29922, 11.42879],\n",
       "       [19.55425, 45.76807,  8.24464],\n",
       "       [19.41352, 45.7323 ,  8.21234],\n",
       "       [19.6583 , 46.0004 ,  8.1125 ],\n",
       "       [19.67873, 46.31625,  7.99462],\n",
       "       [18.96799, 45.50759,  8.17014],\n",
       "       [23.89913, 44.62228,  7.16977],\n",
       "       [23.72315, 44.60147,  7.11238],\n",
       "       [23.5225 , 44.78648,  7.16077],\n",
       "       [23.44343, 44.91043,  7.10525],\n",
       "       [23.57232, 44.48373,  6.78193],\n",
       "       [23.57681, 44.59654,  6.39827],\n",
       "       [23.04073, 44.8838 ,  6.12207],\n",
       "       [23.25653, 44.78855,  5.95363],\n",
       "       [23.05531, 44.88226,  5.84095],\n",
       "       [23.19856, 45.0853 ,  6.05554],\n",
       "       [22.85014, 45.04893,  5.85602],\n",
       "       [22.85622, 45.33316,  6.37231],\n",
       "       [22.70112, 45.22748,  6.34762],\n",
       "       [22.80424, 45.77756,  6.91577]], dtype=float32)"
      ]
     },
     "execution_count": 175,
     "metadata": {},
     "output_type": "execute_result"
    }
   ],
   "source": [
    "x"
   ]
  },
  {
   "cell_type": "code",
   "execution_count": null,
   "metadata": {},
   "outputs": [],
   "source": []
  }
 ],
 "metadata": {
  "kernelspec": {
   "display_name": "py36-fastai",
   "language": "python",
   "name": "fastai"
  },
  "language_info": {
   "codemirror_mode": {
    "name": "ipython",
    "version": 3
   },
   "file_extension": ".py",
   "mimetype": "text/x-python",
   "name": "python",
   "nbconvert_exporter": "python",
   "pygments_lexer": "ipython3",
   "version": "3.6.6"
  }
 },
 "nbformat": 4,
 "nbformat_minor": 2
}
