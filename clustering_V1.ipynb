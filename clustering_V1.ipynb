{
 "cells": [
  {
   "cell_type": "code",
   "execution_count": 1,
   "metadata": {},
   "outputs": [],
   "source": [
    "%matplotlib inline\n",
    "%reload_ext autoreload\n",
    "%autoreload 2"
   ]
  },
  {
   "cell_type": "code",
   "execution_count": 2,
   "metadata": {},
   "outputs": [],
   "source": [
    "from fastai import *\n",
    "from fastai.tabular import *"
   ]
  },
  {
   "cell_type": "code",
   "execution_count": 3,
   "metadata": {},
   "outputs": [],
   "source": [
    "import pandas as pd\n",
    "np.set_printoptions(threshold=50, edgeitems=20)\n",
    "\n",
    "PATH = 'fixed/data/'"
   ]
  },
  {
   "cell_type": "code",
   "execution_count": 4,
   "metadata": {},
   "outputs": [],
   "source": [
    "# from pandas_summary import DataFrameSummary\n",
    "from sklearn.ensemble import RandomForestRegressor, RandomForestClassifier\n",
    "from IPython.display import display\n",
    "\n",
    "from sklearn import metrics"
   ]
  },
  {
   "cell_type": "code",
   "execution_count": 5,
   "metadata": {},
   "outputs": [],
   "source": [
    "d=pd.read_pickle('df_fixed.pkl')"
   ]
  },
  {
   "cell_type": "code",
   "execution_count": 6,
   "metadata": {},
   "outputs": [
    {
     "data": {
      "text/html": [
       "<div>\n",
       "<style scoped>\n",
       "    .dataframe tbody tr th:only-of-type {\n",
       "        vertical-align: middle;\n",
       "    }\n",
       "\n",
       "    .dataframe tbody tr th {\n",
       "        vertical-align: top;\n",
       "    }\n",
       "\n",
       "    .dataframe thead th {\n",
       "        text-align: right;\n",
       "    }\n",
       "</style>\n",
       "<table border=\"1\" class=\"dataframe\">\n",
       "  <thead>\n",
       "    <tr style=\"text-align: right;\">\n",
       "      <th></th>\n",
       "      <th>x_coord</th>\n",
       "      <th>y_coord</th>\n",
       "      <th>z_coord</th>\n",
       "    </tr>\n",
       "  </thead>\n",
       "  <tbody>\n",
       "    <tr>\n",
       "      <th>0</th>\n",
       "      <td>-17.932</td>\n",
       "      <td>5.235</td>\n",
       "      <td>4.057</td>\n",
       "    </tr>\n",
       "    <tr>\n",
       "      <th>1</th>\n",
       "      <td>-19.289</td>\n",
       "      <td>5.514</td>\n",
       "      <td>3.562</td>\n",
       "    </tr>\n",
       "    <tr>\n",
       "      <th>2</th>\n",
       "      <td>-19.342</td>\n",
       "      <td>6.462</td>\n",
       "      <td>2.300</td>\n",
       "    </tr>\n",
       "    <tr>\n",
       "      <th>3</th>\n",
       "      <td>-19.767</td>\n",
       "      <td>6.029</td>\n",
       "      <td>1.234</td>\n",
       "    </tr>\n",
       "    <tr>\n",
       "      <th>4</th>\n",
       "      <td>-20.099</td>\n",
       "      <td>6.097</td>\n",
       "      <td>4.709</td>\n",
       "    </tr>\n",
       "  </tbody>\n",
       "</table>\n",
       "</div>"
      ],
      "text/plain": [
       "   x_coord  y_coord  z_coord\n",
       "0  -17.932    5.235    4.057\n",
       "1  -19.289    5.514    3.562\n",
       "2  -19.342    6.462    2.300\n",
       "3  -19.767    6.029    1.234\n",
       "4  -20.099    6.097    4.709"
      ]
     },
     "execution_count": 6,
     "metadata": {},
     "output_type": "execute_result"
    }
   ],
   "source": [
    "p=d.drop(['atom_name', 'residue_name', 'chain_id', 'residue_number','b_factor', 'atom_number','element_symbol', 'x_ca', 'y_ca', 'z_ca'],axis=1)\n",
    "p.head()"
   ]
  },
  {
   "cell_type": "code",
   "execution_count": 7,
   "metadata": {},
   "outputs": [],
   "source": [
    "import seaborn as sns\n",
    "sns.set(style=\"white\", color_codes=True)\n",
    "import warnings\n",
    "warnings.filterwarnings(\"ignore\")"
   ]
  },
  {
   "cell_type": "code",
   "execution_count": 8,
   "metadata": {},
   "outputs": [
    {
     "data": {
      "image/png": "[encoded data removed]",
      "text/plain": [
       "<Figure size 296.8x288 with 1 Axes>"
      ]
     },
     "metadata": {},
     "output_type": "display_data"
    }
   ],
   "source": [
    "sns.FacetGrid(p, size=4) \\\n",
    "   .map(plt.scatter, \"x_coord\", \"y_coord\",\"z_coord\") \\\n",
    "   .add_legend();"
   ]
  },
  {
   "cell_type": "code",
   "execution_count": 9,
   "metadata": {},
   "outputs": [
    {
     "data": {
      "text/html": [
       "<div>\n",
       "<style scoped>\n",
       "    .dataframe tbody tr th:only-of-type {\n",
       "        vertical-align: middle;\n",
       "    }\n",
       "\n",
       "    .dataframe tbody tr th {\n",
       "        vertical-align: top;\n",
       "    }\n",
       "\n",
       "    .dataframe thead th {\n",
       "        text-align: right;\n",
       "    }\n",
       "</style>\n",
       "<table border=\"1\" class=\"dataframe\">\n",
       "  <thead>\n",
       "    <tr style=\"text-align: right;\">\n",
       "      <th></th>\n",
       "      <th>x_coord</th>\n",
       "      <th>y_coord</th>\n",
       "      <th>z_coord</th>\n",
       "    </tr>\n",
       "  </thead>\n",
       "  <tbody>\n",
       "    <tr>\n",
       "      <th>192621</th>\n",
       "      <td>0.146464</td>\n",
       "      <td>-0.080313</td>\n",
       "      <td>-0.058056</td>\n",
       "    </tr>\n",
       "    <tr>\n",
       "      <th>213745</th>\n",
       "      <td>-0.823785</td>\n",
       "      <td>-1.053833</td>\n",
       "      <td>-0.343016</td>\n",
       "    </tr>\n",
       "    <tr>\n",
       "      <th>170225</th>\n",
       "      <td>-0.667519</td>\n",
       "      <td>0.956609</td>\n",
       "      <td>-0.280822</td>\n",
       "    </tr>\n",
       "    <tr>\n",
       "      <th>65795</th>\n",
       "      <td>0.034852</td>\n",
       "      <td>1.235061</td>\n",
       "      <td>2.717341</td>\n",
       "    </tr>\n",
       "    <tr>\n",
       "      <th>239555</th>\n",
       "      <td>0.961555</td>\n",
       "      <td>0.188238</td>\n",
       "      <td>-0.158117</td>\n",
       "    </tr>\n",
       "  </tbody>\n",
       "</table>\n",
       "</div>"
      ],
      "text/plain": [
       "         x_coord   y_coord   z_coord\n",
       "192621  0.146464 -0.080313 -0.058056\n",
       "213745 -0.823785 -1.053833 -0.343016\n",
       "170225 -0.667519  0.956609 -0.280822\n",
       "65795   0.034852  1.235061  2.717341\n",
       "239555  0.961555  0.188238 -0.158117"
      ]
     },
     "execution_count": 9,
     "metadata": {},
     "output_type": "execute_result"
    }
   ],
   "source": [
    "from sklearn import preprocessing\n",
    "\n",
    "scaler = preprocessing.StandardScaler()\n",
    "\n",
    "scaler.fit(p)\n",
    "p_scaled_array = scaler.transform(p)\n",
    "p_scaled = pd.DataFrame(p_scaled_array, columns = p.columns)\n",
    "\n",
    "p_scaled.sample(5)"
   ]
  },
  {
   "cell_type": "markdown",
   "metadata": {},
   "source": [
    "# Gaussian Mixture Model (GMM) Clustering"
   ]
  },
  {
   "cell_type": "code",
   "execution_count": 10,
   "metadata": {},
   "outputs": [],
   "source": [
    "nclusters = 12"
   ]
  },
  {
   "cell_type": "code",
   "execution_count": 11,
   "metadata": {},
   "outputs": [
    {
     "data": {
      "text/plain": [
       "array([ 2,  2,  2,  2,  2,  2,  2,  2,  2,  2,  2,  2,  2,  2,  2,  2,  2,  2,  2,  2, ...,  6, 10,  6,  6,  6,  6, 10,\n",
       "       10, 10, 10, 10, 10, 10, 10, 10, 10, 10, 10, 10, 10])"
      ]
     },
     "execution_count": 11,
     "metadata": {},
     "output_type": "execute_result"
    }
   ],
   "source": [
    "from sklearn.mixture import GaussianMixture\n",
    "\n",
    "gmm = GaussianMixture(n_components=nclusters)\n",
    "gmm.fit(p)\n",
    "\n",
    "# predict the cluster for each data point\n",
    "y_cluster_gmm = gmm.predict(p)\n",
    "y_cluster_gmm"
   ]
  },
  {
   "cell_type": "code",
   "execution_count": 12,
   "metadata": {},
   "outputs": [
    {
     "data": {
      "text/plain": [
       "array([[  42.242859,   82.837457,   55.65036 ],\n",
       "       [  16.118835,   27.139457,   86.593582],\n",
       "       [   3.03933 ,    7.399355,    4.224883],\n",
       "       [ 144.584368,   84.896077,  119.011668],\n",
       "       [  -9.697274,  -19.098574, -193.64202 ],\n",
       "       [  20.409363,   14.163339,   47.097653],\n",
       "       [  17.197536,   52.425105,   14.75667 ],\n",
       "       [ -10.697016,    6.949883,    5.171262],\n",
       "       [  87.649069,   -8.269162,    3.585378],\n",
       "       [  71.446423,  148.391975,  180.361953],\n",
       "       [  37.025873,   32.496903,   16.715889],\n",
       "       [-164.651396,  -51.523216,   -8.655978]])"
      ]
     },
     "execution_count": 12,
     "metadata": {},
     "output_type": "execute_result"
    }
   ],
   "source": [
    "gmm.means_"
   ]
  },
  {
   "cell_type": "code",
   "execution_count": 13,
   "metadata": {},
   "outputs": [],
   "source": [
    "cluster_means = pd.DataFrame(gmm.means_)"
   ]
  },
  {
   "cell_type": "code",
   "execution_count": 14,
   "metadata": {},
   "outputs": [],
   "source": [
    "cluster_means.to_pickle('gmm_means_12.pkl')"
   ]
  },
  {
   "cell_type": "code",
   "execution_count": 15,
   "metadata": {},
   "outputs": [],
   "source": [
    "d['cluster'] = y_cluster_gmm"
   ]
  },
  {
   "cell_type": "code",
   "execution_count": 16,
   "metadata": {},
   "outputs": [
    {
     "data": {
      "text/html": [
       "<div>\n",
       "<style scoped>\n",
       "    .dataframe tbody tr th:only-of-type {\n",
       "        vertical-align: middle;\n",
       "    }\n",
       "\n",
       "    .dataframe tbody tr th {\n",
       "        vertical-align: top;\n",
       "    }\n",
       "\n",
       "    .dataframe thead th {\n",
       "        text-align: right;\n",
       "    }\n",
       "</style>\n",
       "<table border=\"1\" class=\"dataframe\">\n",
       "  <thead>\n",
       "    <tr style=\"text-align: right;\">\n",
       "      <th></th>\n",
       "      <th>atom_number</th>\n",
       "      <th>atom_name</th>\n",
       "      <th>residue_name</th>\n",
       "      <th>chain_id</th>\n",
       "      <th>residue_number</th>\n",
       "      <th>x_coord</th>\n",
       "      <th>y_coord</th>\n",
       "      <th>z_coord</th>\n",
       "      <th>b_factor</th>\n",
       "      <th>element_symbol</th>\n",
       "      <th>x_ca</th>\n",
       "      <th>y_ca</th>\n",
       "      <th>z_ca</th>\n",
       "      <th>cluster</th>\n",
       "    </tr>\n",
       "  </thead>\n",
       "  <tbody>\n",
       "    <tr>\n",
       "      <th>0</th>\n",
       "      <td>1</td>\n",
       "      <td>N</td>\n",
       "      <td>PHE</td>\n",
       "      <td>1</td>\n",
       "      <td>1</td>\n",
       "      <td>-17.932</td>\n",
       "      <td>5.235</td>\n",
       "      <td>4.057</td>\n",
       "      <td>0.0</td>\n",
       "      <td>N</td>\n",
       "      <td>-19.289</td>\n",
       "      <td>5.514</td>\n",
       "      <td>3.562</td>\n",
       "      <td>2</td>\n",
       "    </tr>\n",
       "    <tr>\n",
       "      <th>1</th>\n",
       "      <td>2</td>\n",
       "      <td>CA</td>\n",
       "      <td>PHE</td>\n",
       "      <td>1</td>\n",
       "      <td>1</td>\n",
       "      <td>-19.289</td>\n",
       "      <td>5.514</td>\n",
       "      <td>3.562</td>\n",
       "      <td>0.0</td>\n",
       "      <td>C</td>\n",
       "      <td>-19.289</td>\n",
       "      <td>5.514</td>\n",
       "      <td>3.562</td>\n",
       "      <td>2</td>\n",
       "    </tr>\n",
       "    <tr>\n",
       "      <th>2</th>\n",
       "      <td>3</td>\n",
       "      <td>C</td>\n",
       "      <td>PHE</td>\n",
       "      <td>1</td>\n",
       "      <td>1</td>\n",
       "      <td>-19.342</td>\n",
       "      <td>6.462</td>\n",
       "      <td>2.300</td>\n",
       "      <td>0.0</td>\n",
       "      <td>C</td>\n",
       "      <td>-19.289</td>\n",
       "      <td>5.514</td>\n",
       "      <td>3.562</td>\n",
       "      <td>2</td>\n",
       "    </tr>\n",
       "    <tr>\n",
       "      <th>3</th>\n",
       "      <td>4</td>\n",
       "      <td>O</td>\n",
       "      <td>PHE</td>\n",
       "      <td>1</td>\n",
       "      <td>1</td>\n",
       "      <td>-19.767</td>\n",
       "      <td>6.029</td>\n",
       "      <td>1.234</td>\n",
       "      <td>0.0</td>\n",
       "      <td>O</td>\n",
       "      <td>-19.289</td>\n",
       "      <td>5.514</td>\n",
       "      <td>3.562</td>\n",
       "      <td>2</td>\n",
       "    </tr>\n",
       "    <tr>\n",
       "      <th>4</th>\n",
       "      <td>5</td>\n",
       "      <td>CB</td>\n",
       "      <td>PHE</td>\n",
       "      <td>1</td>\n",
       "      <td>1</td>\n",
       "      <td>-20.099</td>\n",
       "      <td>6.097</td>\n",
       "      <td>4.709</td>\n",
       "      <td>0.0</td>\n",
       "      <td>C</td>\n",
       "      <td>-19.289</td>\n",
       "      <td>5.514</td>\n",
       "      <td>3.562</td>\n",
       "      <td>2</td>\n",
       "    </tr>\n",
       "  </tbody>\n",
       "</table>\n",
       "</div>"
      ],
      "text/plain": [
       "   atom_number atom_name residue_name chain_id  residue_number  x_coord  \\\n",
       "0            1         N          PHE        1               1  -17.932   \n",
       "1            2        CA          PHE        1               1  -19.289   \n",
       "2            3         C          PHE        1               1  -19.342   \n",
       "3            4         O          PHE        1               1  -19.767   \n",
       "4            5        CB          PHE        1               1  -20.099   \n",
       "\n",
       "   y_coord  z_coord  b_factor element_symbol    x_ca   y_ca   z_ca  cluster  \n",
       "0    5.235    4.057       0.0              N -19.289  5.514  3.562        2  \n",
       "1    5.514    3.562       0.0              C -19.289  5.514  3.562        2  \n",
       "2    6.462    2.300       0.0              C -19.289  5.514  3.562        2  \n",
       "3    6.029    1.234       0.0              O -19.289  5.514  3.562        2  \n",
       "4    6.097    4.709       0.0              C -19.289  5.514  3.562        2  "
      ]
     },
     "execution_count": 16,
     "metadata": {},
     "output_type": "execute_result"
    }
   ],
   "source": [
    "d.head()"
   ]
  },
  {
   "cell_type": "code",
   "execution_count": 17,
   "metadata": {},
   "outputs": [],
   "source": [
    "d.to_pickle('12_gmm.pkl')"
   ]
  },
  {
   "cell_type": "code",
   "execution_count": 74,
   "metadata": {},
   "outputs": [],
   "source": [
    "df=pd.read_pickle('12_gmm.pkl')"
   ]
  },
  {
   "cell_type": "code",
   "execution_count": 75,
   "metadata": {},
   "outputs": [
    {
     "data": {
      "text/html": [
       "<div>\n",
       "<style scoped>\n",
       "    .dataframe tbody tr th:only-of-type {\n",
       "        vertical-align: middle;\n",
       "    }\n",
       "\n",
       "    .dataframe tbody tr th {\n",
       "        vertical-align: top;\n",
       "    }\n",
       "\n",
       "    .dataframe thead th {\n",
       "        text-align: right;\n",
       "    }\n",
       "</style>\n",
       "<table border=\"1\" class=\"dataframe\">\n",
       "  <thead>\n",
       "    <tr style=\"text-align: right;\">\n",
       "      <th></th>\n",
       "      <th>atom_number</th>\n",
       "      <th>atom_name</th>\n",
       "      <th>residue_name</th>\n",
       "      <th>chain_id</th>\n",
       "      <th>residue_number</th>\n",
       "      <th>x_coord</th>\n",
       "      <th>y_coord</th>\n",
       "      <th>z_coord</th>\n",
       "      <th>b_factor</th>\n",
       "      <th>element_symbol</th>\n",
       "      <th>x_ca</th>\n",
       "      <th>y_ca</th>\n",
       "      <th>z_ca</th>\n",
       "      <th>cluster</th>\n",
       "    </tr>\n",
       "  </thead>\n",
       "  <tbody>\n",
       "    <tr>\n",
       "      <th>0</th>\n",
       "      <td>1</td>\n",
       "      <td>N</td>\n",
       "      <td>PHE</td>\n",
       "      <td>1</td>\n",
       "      <td>1</td>\n",
       "      <td>-17.932</td>\n",
       "      <td>5.235</td>\n",
       "      <td>4.057</td>\n",
       "      <td>0.0</td>\n",
       "      <td>N</td>\n",
       "      <td>-19.289</td>\n",
       "      <td>5.514</td>\n",
       "      <td>3.562</td>\n",
       "      <td>2</td>\n",
       "    </tr>\n",
       "    <tr>\n",
       "      <th>1</th>\n",
       "      <td>2</td>\n",
       "      <td>CA</td>\n",
       "      <td>PHE</td>\n",
       "      <td>1</td>\n",
       "      <td>1</td>\n",
       "      <td>-19.289</td>\n",
       "      <td>5.514</td>\n",
       "      <td>3.562</td>\n",
       "      <td>0.0</td>\n",
       "      <td>C</td>\n",
       "      <td>-19.289</td>\n",
       "      <td>5.514</td>\n",
       "      <td>3.562</td>\n",
       "      <td>2</td>\n",
       "    </tr>\n",
       "    <tr>\n",
       "      <th>2</th>\n",
       "      <td>3</td>\n",
       "      <td>C</td>\n",
       "      <td>PHE</td>\n",
       "      <td>1</td>\n",
       "      <td>1</td>\n",
       "      <td>-19.342</td>\n",
       "      <td>6.462</td>\n",
       "      <td>2.300</td>\n",
       "      <td>0.0</td>\n",
       "      <td>C</td>\n",
       "      <td>-19.289</td>\n",
       "      <td>5.514</td>\n",
       "      <td>3.562</td>\n",
       "      <td>2</td>\n",
       "    </tr>\n",
       "    <tr>\n",
       "      <th>3</th>\n",
       "      <td>4</td>\n",
       "      <td>O</td>\n",
       "      <td>PHE</td>\n",
       "      <td>1</td>\n",
       "      <td>1</td>\n",
       "      <td>-19.767</td>\n",
       "      <td>6.029</td>\n",
       "      <td>1.234</td>\n",
       "      <td>0.0</td>\n",
       "      <td>O</td>\n",
       "      <td>-19.289</td>\n",
       "      <td>5.514</td>\n",
       "      <td>3.562</td>\n",
       "      <td>2</td>\n",
       "    </tr>\n",
       "    <tr>\n",
       "      <th>4</th>\n",
       "      <td>5</td>\n",
       "      <td>CB</td>\n",
       "      <td>PHE</td>\n",
       "      <td>1</td>\n",
       "      <td>1</td>\n",
       "      <td>-20.099</td>\n",
       "      <td>6.097</td>\n",
       "      <td>4.709</td>\n",
       "      <td>0.0</td>\n",
       "      <td>C</td>\n",
       "      <td>-19.289</td>\n",
       "      <td>5.514</td>\n",
       "      <td>3.562</td>\n",
       "      <td>2</td>\n",
       "    </tr>\n",
       "    <tr>\n",
       "      <th>5</th>\n",
       "      <td>6</td>\n",
       "      <td>CG</td>\n",
       "      <td>PHE</td>\n",
       "      <td>1</td>\n",
       "      <td>1</td>\n",
       "      <td>-21.559</td>\n",
       "      <td>6.092</td>\n",
       "      <td>4.496</td>\n",
       "      <td>0.0</td>\n",
       "      <td>C</td>\n",
       "      <td>-19.289</td>\n",
       "      <td>5.514</td>\n",
       "      <td>3.562</td>\n",
       "      <td>2</td>\n",
       "    </tr>\n",
       "    <tr>\n",
       "      <th>6</th>\n",
       "      <td>7</td>\n",
       "      <td>CD1</td>\n",
       "      <td>PHE</td>\n",
       "      <td>1</td>\n",
       "      <td>1</td>\n",
       "      <td>-22.286</td>\n",
       "      <td>4.925</td>\n",
       "      <td>4.670</td>\n",
       "      <td>0.0</td>\n",
       "      <td>C</td>\n",
       "      <td>-19.289</td>\n",
       "      <td>5.514</td>\n",
       "      <td>3.562</td>\n",
       "      <td>2</td>\n",
       "    </tr>\n",
       "    <tr>\n",
       "      <th>7</th>\n",
       "      <td>8</td>\n",
       "      <td>CD2</td>\n",
       "      <td>PHE</td>\n",
       "      <td>1</td>\n",
       "      <td>1</td>\n",
       "      <td>-22.231</td>\n",
       "      <td>7.244</td>\n",
       "      <td>4.111</td>\n",
       "      <td>0.0</td>\n",
       "      <td>C</td>\n",
       "      <td>-19.289</td>\n",
       "      <td>5.514</td>\n",
       "      <td>3.562</td>\n",
       "      <td>2</td>\n",
       "    </tr>\n",
       "    <tr>\n",
       "      <th>8</th>\n",
       "      <td>9</td>\n",
       "      <td>CE1</td>\n",
       "      <td>PHE</td>\n",
       "      <td>1</td>\n",
       "      <td>1</td>\n",
       "      <td>-23.668</td>\n",
       "      <td>4.909</td>\n",
       "      <td>4.479</td>\n",
       "      <td>0.0</td>\n",
       "      <td>C</td>\n",
       "      <td>-19.289</td>\n",
       "      <td>5.514</td>\n",
       "      <td>3.562</td>\n",
       "      <td>2</td>\n",
       "    </tr>\n",
       "    <tr>\n",
       "      <th>9</th>\n",
       "      <td>10</td>\n",
       "      <td>CE2</td>\n",
       "      <td>PHE</td>\n",
       "      <td>1</td>\n",
       "      <td>1</td>\n",
       "      <td>-23.625</td>\n",
       "      <td>7.231</td>\n",
       "      <td>3.923</td>\n",
       "      <td>0.0</td>\n",
       "      <td>C</td>\n",
       "      <td>-19.289</td>\n",
       "      <td>5.514</td>\n",
       "      <td>3.562</td>\n",
       "      <td>2</td>\n",
       "    </tr>\n",
       "    <tr>\n",
       "      <th>10</th>\n",
       "      <td>11</td>\n",
       "      <td>CZ</td>\n",
       "      <td>PHE</td>\n",
       "      <td>1</td>\n",
       "      <td>1</td>\n",
       "      <td>-24.333</td>\n",
       "      <td>6.056</td>\n",
       "      <td>4.117</td>\n",
       "      <td>0.0</td>\n",
       "      <td>C</td>\n",
       "      <td>-19.289</td>\n",
       "      <td>5.514</td>\n",
       "      <td>3.562</td>\n",
       "      <td>2</td>\n",
       "    </tr>\n",
       "    <tr>\n",
       "      <th>11</th>\n",
       "      <td>12</td>\n",
       "      <td>N</td>\n",
       "      <td>PRO</td>\n",
       "      <td>1</td>\n",
       "      <td>2</td>\n",
       "      <td>-18.858</td>\n",
       "      <td>7.722</td>\n",
       "      <td>2.411</td>\n",
       "      <td>0.0</td>\n",
       "      <td>N</td>\n",
       "      <td>-19.105</td>\n",
       "      <td>8.750</td>\n",
       "      <td>1.379</td>\n",
       "      <td>2</td>\n",
       "    </tr>\n",
       "    <tr>\n",
       "      <th>12</th>\n",
       "      <td>13</td>\n",
       "      <td>CA</td>\n",
       "      <td>PRO</td>\n",
       "      <td>1</td>\n",
       "      <td>2</td>\n",
       "      <td>-19.105</td>\n",
       "      <td>8.750</td>\n",
       "      <td>1.379</td>\n",
       "      <td>0.0</td>\n",
       "      <td>C</td>\n",
       "      <td>-19.105</td>\n",
       "      <td>8.750</td>\n",
       "      <td>1.379</td>\n",
       "      <td>2</td>\n",
       "    </tr>\n",
       "    <tr>\n",
       "      <th>13</th>\n",
       "      <td>14</td>\n",
       "      <td>C</td>\n",
       "      <td>PRO</td>\n",
       "      <td>1</td>\n",
       "      <td>2</td>\n",
       "      <td>-18.628</td>\n",
       "      <td>8.475</td>\n",
       "      <td>-0.039</td>\n",
       "      <td>0.0</td>\n",
       "      <td>C</td>\n",
       "      <td>-19.105</td>\n",
       "      <td>8.750</td>\n",
       "      <td>1.379</td>\n",
       "      <td>2</td>\n",
       "    </tr>\n",
       "    <tr>\n",
       "      <th>14</th>\n",
       "      <td>15</td>\n",
       "      <td>O</td>\n",
       "      <td>PRO</td>\n",
       "      <td>1</td>\n",
       "      <td>2</td>\n",
       "      <td>-19.422</td>\n",
       "      <td>8.546</td>\n",
       "      <td>-0.960</td>\n",
       "      <td>0.0</td>\n",
       "      <td>O</td>\n",
       "      <td>-19.105</td>\n",
       "      <td>8.750</td>\n",
       "      <td>1.379</td>\n",
       "      <td>2</td>\n",
       "    </tr>\n",
       "    <tr>\n",
       "      <th>15</th>\n",
       "      <td>16</td>\n",
       "      <td>CB</td>\n",
       "      <td>PRO</td>\n",
       "      <td>1</td>\n",
       "      <td>2</td>\n",
       "      <td>-18.377</td>\n",
       "      <td>10.009</td>\n",
       "      <td>1.909</td>\n",
       "      <td>0.0</td>\n",
       "      <td>C</td>\n",
       "      <td>-19.105</td>\n",
       "      <td>8.750</td>\n",
       "      <td>1.379</td>\n",
       "      <td>2</td>\n",
       "    </tr>\n",
       "    <tr>\n",
       "      <th>16</th>\n",
       "      <td>17</td>\n",
       "      <td>CG</td>\n",
       "      <td>PRO</td>\n",
       "      <td>1</td>\n",
       "      <td>2</td>\n",
       "      <td>-17.728</td>\n",
       "      <td>9.627</td>\n",
       "      <td>3.148</td>\n",
       "      <td>0.0</td>\n",
       "      <td>C</td>\n",
       "      <td>-19.105</td>\n",
       "      <td>8.750</td>\n",
       "      <td>1.379</td>\n",
       "      <td>2</td>\n",
       "    </tr>\n",
       "    <tr>\n",
       "      <th>17</th>\n",
       "      <td>18</td>\n",
       "      <td>CD</td>\n",
       "      <td>PRO</td>\n",
       "      <td>1</td>\n",
       "      <td>2</td>\n",
       "      <td>-17.806</td>\n",
       "      <td>8.160</td>\n",
       "      <td>3.350</td>\n",
       "      <td>0.0</td>\n",
       "      <td>C</td>\n",
       "      <td>-19.105</td>\n",
       "      <td>8.750</td>\n",
       "      <td>1.379</td>\n",
       "      <td>2</td>\n",
       "    </tr>\n",
       "    <tr>\n",
       "      <th>18</th>\n",
       "      <td>19</td>\n",
       "      <td>N</td>\n",
       "      <td>MET</td>\n",
       "      <td>1</td>\n",
       "      <td>3</td>\n",
       "      <td>-17.354</td>\n",
       "      <td>8.179</td>\n",
       "      <td>-0.247</td>\n",
       "      <td>0.0</td>\n",
       "      <td>N</td>\n",
       "      <td>-16.889</td>\n",
       "      <td>7.966</td>\n",
       "      <td>-1.615</td>\n",
       "      <td>2</td>\n",
       "    </tr>\n",
       "    <tr>\n",
       "      <th>19</th>\n",
       "      <td>20</td>\n",
       "      <td>CA</td>\n",
       "      <td>MET</td>\n",
       "      <td>1</td>\n",
       "      <td>3</td>\n",
       "      <td>-16.889</td>\n",
       "      <td>7.966</td>\n",
       "      <td>-1.615</td>\n",
       "      <td>0.0</td>\n",
       "      <td>C</td>\n",
       "      <td>-16.889</td>\n",
       "      <td>7.966</td>\n",
       "      <td>-1.615</td>\n",
       "      <td>2</td>\n",
       "    </tr>\n",
       "  </tbody>\n",
       "</table>\n",
       "</div>"
      ],
      "text/plain": [
       "    atom_number atom_name residue_name chain_id  residue_number  x_coord  \\\n",
       "0             1         N          PHE        1               1  -17.932   \n",
       "1             2        CA          PHE        1               1  -19.289   \n",
       "2             3         C          PHE        1               1  -19.342   \n",
       "3             4         O          PHE        1               1  -19.767   \n",
       "4             5        CB          PHE        1               1  -20.099   \n",
       "5             6        CG          PHE        1               1  -21.559   \n",
       "6             7       CD1          PHE        1               1  -22.286   \n",
       "7             8       CD2          PHE        1               1  -22.231   \n",
       "8             9       CE1          PHE        1               1  -23.668   \n",
       "9            10       CE2          PHE        1               1  -23.625   \n",
       "10           11        CZ          PHE        1               1  -24.333   \n",
       "11           12         N          PRO        1               2  -18.858   \n",
       "12           13        CA          PRO        1               2  -19.105   \n",
       "13           14         C          PRO        1               2  -18.628   \n",
       "14           15         O          PRO        1               2  -19.422   \n",
       "15           16        CB          PRO        1               2  -18.377   \n",
       "16           17        CG          PRO        1               2  -17.728   \n",
       "17           18        CD          PRO        1               2  -17.806   \n",
       "18           19         N          MET        1               3  -17.354   \n",
       "19           20        CA          MET        1               3  -16.889   \n",
       "\n",
       "    y_coord  z_coord  b_factor element_symbol    x_ca   y_ca   z_ca  cluster  \n",
       "0     5.235    4.057       0.0              N -19.289  5.514  3.562        2  \n",
       "1     5.514    3.562       0.0              C -19.289  5.514  3.562        2  \n",
       "2     6.462    2.300       0.0              C -19.289  5.514  3.562        2  \n",
       "3     6.029    1.234       0.0              O -19.289  5.514  3.562        2  \n",
       "4     6.097    4.709       0.0              C -19.289  5.514  3.562        2  \n",
       "5     6.092    4.496       0.0              C -19.289  5.514  3.562        2  \n",
       "6     4.925    4.670       0.0              C -19.289  5.514  3.562        2  \n",
       "7     7.244    4.111       0.0              C -19.289  5.514  3.562        2  \n",
       "8     4.909    4.479       0.0              C -19.289  5.514  3.562        2  \n",
       "9     7.231    3.923       0.0              C -19.289  5.514  3.562        2  \n",
       "10    6.056    4.117       0.0              C -19.289  5.514  3.562        2  \n",
       "11    7.722    2.411       0.0              N -19.105  8.750  1.379        2  \n",
       "12    8.750    1.379       0.0              C -19.105  8.750  1.379        2  \n",
       "13    8.475   -0.039       0.0              C -19.105  8.750  1.379        2  \n",
       "14    8.546   -0.960       0.0              O -19.105  8.750  1.379        2  \n",
       "15   10.009    1.909       0.0              C -19.105  8.750  1.379        2  \n",
       "16    9.627    3.148       0.0              C -19.105  8.750  1.379        2  \n",
       "17    8.160    3.350       0.0              C -19.105  8.750  1.379        2  \n",
       "18    8.179   -0.247       0.0              N -16.889  7.966 -1.615        2  \n",
       "19    7.966   -1.615       0.0              C -16.889  7.966 -1.615        2  "
      ]
     },
     "execution_count": 75,
     "metadata": {},
     "output_type": "execute_result"
    }
   ],
   "source": [
    "df.head(20)"
   ]
  },
  {
   "cell_type": "code",
   "execution_count": 76,
   "metadata": {},
   "outputs": [],
   "source": [
    "cluster_0 = df[df.cluster == 0]\n",
    "cluster_1 = df[df.cluster == 1]\n",
    "cluster_2 = df[df.cluster == 2]\n",
    "cluster_3 = df[df.cluster == 3]\n",
    "cluster_4 = df[df.cluster == 4]\n",
    "cluster_5 = df[df.cluster == 5]\n",
    "cluster_6 = df[df.cluster == 6]\n",
    "cluster_7 = df[df.cluster == 7]\n",
    "cluster_8 = df[df.cluster == 8]\n",
    "cluster_9 = df[df.cluster == 9]\n",
    "cluster_10 = df[df.cluster == 10]\n",
    "cluster_11 = df[df.cluster == 11]"
   ]
  },
  {
   "cell_type": "code",
   "execution_count": 77,
   "metadata": {},
   "outputs": [
    {
     "data": {
      "text/plain": [
       "Index(['atom_number', 'atom_name', 'residue_name', 'chain_id',\n",
       "       'residue_number', 'x_coord', 'y_coord', 'z_coord', 'b_factor',\n",
       "       'element_symbol', 'x_ca', 'y_ca', 'z_ca', 'cluster'],\n",
       "      dtype='object')"
      ]
     },
     "execution_count": 77,
     "metadata": {},
     "output_type": "execute_result"
    }
   ],
   "source": [
    "cluster_5.columns"
   ]
  },
  {
   "cell_type": "code",
   "execution_count": 78,
   "metadata": {},
   "outputs": [],
   "source": [
    "cat_vars = ['atom_number','atom_name', 'residue_name',\n",
    "       'residue_number','element_symbol','cluster']"
   ]
  },
  {
   "cell_type": "code",
   "execution_count": 79,
   "metadata": {},
   "outputs": [],
   "source": [
    "cont_vars = ['x_coord', 'y_coord', 'z_coord','x_ca', 'y_ca', 'z_ca']"
   ]
  },
  {
   "cell_type": "code",
   "execution_count": 80,
   "metadata": {},
   "outputs": [
    {
     "data": {
      "text/plain": [
       "350000"
      ]
     },
     "execution_count": 80,
     "metadata": {},
     "output_type": "execute_result"
    }
   ],
   "source": [
    "n = len(df); n"
   ]
  },
  {
   "cell_type": "code",
   "execution_count": 81,
   "metadata": {},
   "outputs": [],
   "source": [
    "df = df.drop(['chain_id','b_factor'],axis=1)"
   ]
  },
  {
   "cell_type": "code",
   "execution_count": 82,
   "metadata": {},
   "outputs": [],
   "source": [
    "categorify = Categorify(cat_vars,cont_vars)\n",
    "categorify(df)"
   ]
  },
  {
   "cell_type": "code",
   "execution_count": 95,
   "metadata": {},
   "outputs": [
    {
     "data": {
      "text/plain": [
       "0      62\n",
       "1       1\n",
       "2       0\n",
       "3      71\n",
       "4       2\n",
       "5      10\n",
       "6       4\n",
       "7       5\n",
       "8       7\n",
       "9       8\n",
       "10     14\n",
       "11     62\n",
       "12      1\n",
       "13      0\n",
       "14     71\n",
       "15      2\n",
       "16     10\n",
       "17      3\n",
       "18     62\n",
       "19      1\n",
       "20      0\n",
       "21     71\n",
       "22      2\n",
       "23     10\n",
       "24     80\n",
       "25      6\n",
       "26     62\n",
       "27      1\n",
       "28      0\n",
       "29     71\n",
       "       ..\n",
       "392    11\n",
       "393    12\n",
       "394    62\n",
       "395     1\n",
       "396     0\n",
       "397    71\n",
       "398     2\n",
       "399    10\n",
       "400     3\n",
       "401     6\n",
       "402    70\n",
       "403    62\n",
       "404     1\n",
       "405     0\n",
       "406    71\n",
       "407     2\n",
       "408    62\n",
       "409     1\n",
       "410     0\n",
       "411    71\n",
       "412     2\n",
       "413    10\n",
       "414     4\n",
       "415     5\n",
       "416    66\n",
       "417     8\n",
       "418     9\n",
       "419    15\n",
       "420    16\n",
       "421    13\n",
       "Length: 350000, dtype: int8"
      ]
     },
     "execution_count": 95,
     "metadata": {},
     "output_type": "execute_result"
    }
   ],
   "source": [
    "df['atom_name'].cat.codes"
   ]
  },
  {
   "cell_type": "code",
   "execution_count": 96,
   "metadata": {},
   "outputs": [],
   "source": [
    "for v in cat_vars:\n",
    "    df[v] = df[v].cat.codes"
   ]
  },
  {
   "cell_type": "code",
   "execution_count": 109,
   "metadata": {},
   "outputs": [
    {
     "data": {
      "text/html": [
       "<div>\n",
       "<style scoped>\n",
       "    .dataframe tbody tr th:only-of-type {\n",
       "        vertical-align: middle;\n",
       "    }\n",
       "\n",
       "    .dataframe tbody tr th {\n",
       "        vertical-align: top;\n",
       "    }\n",
       "\n",
       "    .dataframe thead th {\n",
       "        text-align: right;\n",
       "    }\n",
       "</style>\n",
       "<table border=\"1\" class=\"dataframe\">\n",
       "  <thead>\n",
       "    <tr style=\"text-align: right;\">\n",
       "      <th></th>\n",
       "      <th>atom_number</th>\n",
       "      <th>atom_name</th>\n",
       "      <th>residue_name</th>\n",
       "      <th>residue_number</th>\n",
       "      <th>x_coord</th>\n",
       "      <th>y_coord</th>\n",
       "      <th>z_coord</th>\n",
       "      <th>element_symbol</th>\n",
       "      <th>x_ca</th>\n",
       "      <th>y_ca</th>\n",
       "      <th>z_ca</th>\n",
       "      <th>cluster</th>\n",
       "    </tr>\n",
       "  </thead>\n",
       "  <tbody>\n",
       "    <tr>\n",
       "      <th>0</th>\n",
       "      <td>0</td>\n",
       "      <td>62</td>\n",
       "      <td>13</td>\n",
       "      <td>0</td>\n",
       "      <td>-17.932</td>\n",
       "      <td>5.235</td>\n",
       "      <td>4.057</td>\n",
       "      <td>2</td>\n",
       "      <td>-19.289</td>\n",
       "      <td>5.514</td>\n",
       "      <td>3.562</td>\n",
       "      <td>2</td>\n",
       "    </tr>\n",
       "    <tr>\n",
       "      <th>1</th>\n",
       "      <td>1</td>\n",
       "      <td>1</td>\n",
       "      <td>13</td>\n",
       "      <td>0</td>\n",
       "      <td>-19.289</td>\n",
       "      <td>5.514</td>\n",
       "      <td>3.562</td>\n",
       "      <td>0</td>\n",
       "      <td>-19.289</td>\n",
       "      <td>5.514</td>\n",
       "      <td>3.562</td>\n",
       "      <td>2</td>\n",
       "    </tr>\n",
       "    <tr>\n",
       "      <th>2</th>\n",
       "      <td>2</td>\n",
       "      <td>0</td>\n",
       "      <td>13</td>\n",
       "      <td>0</td>\n",
       "      <td>-19.342</td>\n",
       "      <td>6.462</td>\n",
       "      <td>2.300</td>\n",
       "      <td>0</td>\n",
       "      <td>-19.289</td>\n",
       "      <td>5.514</td>\n",
       "      <td>3.562</td>\n",
       "      <td>2</td>\n",
       "    </tr>\n",
       "    <tr>\n",
       "      <th>3</th>\n",
       "      <td>3</td>\n",
       "      <td>71</td>\n",
       "      <td>13</td>\n",
       "      <td>0</td>\n",
       "      <td>-19.767</td>\n",
       "      <td>6.029</td>\n",
       "      <td>1.234</td>\n",
       "      <td>3</td>\n",
       "      <td>-19.289</td>\n",
       "      <td>5.514</td>\n",
       "      <td>3.562</td>\n",
       "      <td>2</td>\n",
       "    </tr>\n",
       "    <tr>\n",
       "      <th>4</th>\n",
       "      <td>4</td>\n",
       "      <td>2</td>\n",
       "      <td>13</td>\n",
       "      <td>0</td>\n",
       "      <td>-20.099</td>\n",
       "      <td>6.097</td>\n",
       "      <td>4.709</td>\n",
       "      <td>0</td>\n",
       "      <td>-19.289</td>\n",
       "      <td>5.514</td>\n",
       "      <td>3.562</td>\n",
       "      <td>2</td>\n",
       "    </tr>\n",
       "  </tbody>\n",
       "</table>\n",
       "</div>"
      ],
      "text/plain": [
       "   atom_number  atom_name  residue_name  residue_number  x_coord  y_coord  \\\n",
       "0            0         62            13               0  -17.932    5.235   \n",
       "1            1          1            13               0  -19.289    5.514   \n",
       "2            2          0            13               0  -19.342    6.462   \n",
       "3            3         71            13               0  -19.767    6.029   \n",
       "4            4          2            13               0  -20.099    6.097   \n",
       "\n",
       "   z_coord  element_symbol    x_ca   y_ca   z_ca  cluster  \n",
       "0    4.057               2 -19.289  5.514  3.562        2  \n",
       "1    3.562               0 -19.289  5.514  3.562        2  \n",
       "2    2.300               0 -19.289  5.514  3.562        2  \n",
       "3    1.234               3 -19.289  5.514  3.562        2  \n",
       "4    4.709               0 -19.289  5.514  3.562        2  "
      ]
     },
     "execution_count": 109,
     "metadata": {},
     "output_type": "execute_result"
    }
   ],
   "source": [
    "df.head()"
   ]
  },
  {
   "cell_type": "code",
   "execution_count": 98,
   "metadata": {},
   "outputs": [],
   "source": [
    "\n",
    "valid_idx = range(20000)"
   ]
  },
  {
   "cell_type": "code",
   "execution_count": 99,
   "metadata": {},
   "outputs": [],
   "source": [
    "procs=[FillMissing, Categorify, Normalize]"
   ]
  },
  {
   "cell_type": "code",
   "execution_count": null,
   "metadata": {},
   "outputs": [],
   "source": []
  },
  {
   "cell_type": "code",
   "execution_count": 100,
   "metadata": {},
   "outputs": [],
   "source": [
    "dep_var = ['x_coord', 'y_coord', 'z_coord']"
   ]
  },
  {
   "cell_type": "code",
   "execution_count": 101,
   "metadata": {},
   "outputs": [],
   "source": [
    "trin_df = df.iloc[:320000]\n",
    "valid_df = df.iloc[320000:]"
   ]
  },
  {
   "cell_type": "code",
   "execution_count": 110,
   "metadata": {},
   "outputs": [],
   "source": [
    "data = (TabularList.from_df(df, path=PATH, cat_names=cat_vars, cont_names=cont_vars, procs=procs)\n",
    "                           .split_by_idx(valid_idx)\n",
    "                           .label_from_df(cols=dep_var,label_cls=FloatList)\n",
    "                           .databunch())"
   ]
  },
  {
   "cell_type": "code",
   "execution_count": 103,
   "metadata": {},
   "outputs": [
    {
     "data": {
      "text/plain": [
       "dtype('float64')"
      ]
     },
     "execution_count": 103,
     "metadata": {},
     "output_type": "execute_result"
    }
   ],
   "source": [
    "df.x_coord.dtype"
   ]
  },
  {
   "cell_type": "code",
   "execution_count": 111,
   "metadata": {},
   "outputs": [],
   "source": [
    "learn = tabular_learner(data, layers=[1000,500], ps=[0.001,0.01], emb_drop=0.04)"
   ]
  },
  {
   "cell_type": "code",
   "execution_count": 112,
   "metadata": {},
   "outputs": [
    {
     "data": {
      "text/plain": [
       "TabularModel(\n",
       "  (embeds): ModuleList(\n",
       "    (0): Embedding(7489, 236)\n",
       "    (1): Embedding(83, 19)\n",
       "    (2): Embedding(21, 9)\n",
       "    (3): Embedding(596, 57)\n",
       "    (4): Embedding(6, 4)\n",
       "    (5): Embedding(13, 7)\n",
       "  )\n",
       "  (emb_drop): Dropout(p=0.04)\n",
       "  (bn_cont): BatchNorm1d(6, eps=1e-05, momentum=0.1, affine=True, track_running_stats=True)\n",
       "  (layers): Sequential(\n",
       "    (0): Linear(in_features=338, out_features=1000, bias=True)\n",
       "    (1): ReLU(inplace)\n",
       "    (2): BatchNorm1d(1000, eps=1e-05, momentum=0.1, affine=True, track_running_stats=True)\n",
       "    (3): Dropout(p=0.001)\n",
       "    (4): Linear(in_features=1000, out_features=500, bias=True)\n",
       "    (5): ReLU(inplace)\n",
       "    (6): BatchNorm1d(500, eps=1e-05, momentum=0.1, affine=True, track_running_stats=True)\n",
       "    (7): Dropout(p=0.01)\n",
       "    (8): Linear(in_features=500, out_features=3, bias=True)\n",
       "  )\n",
       ")"
      ]
     },
     "execution_count": 112,
     "metadata": {},
     "output_type": "execute_result"
    }
   ],
   "source": [
    "learn.model\n"
   ]
  },
  {
   "cell_type": "code",
   "execution_count": null,
   "metadata": {},
   "outputs": [],
   "source": []
  },
  {
   "cell_type": "code",
   "execution_count": 113,
   "metadata": {},
   "outputs": [
    {
     "name": "stdout",
     "output_type": "stream",
     "text": [
      "LR Finder is complete, type {learner_name}.recorder.plot() to see the graph.\n"
     ]
    },
    {
     "ename": "TypeError",
     "evalue": "Traceback (most recent call last):\n  File \"/home/b/anaconda3/envs/fastai_v1/lib/python3.6/site-packages/torch/utils/data/dataloader.py\", line 138, in _worker_loop\n    samples = collate_fn([dataset[i] for i in batch_indices])\n  File \"/home/b/anaconda3/envs/fastai_v1/lib/python3.6/site-packages/torch/utils/data/dataloader.py\", line 138, in <listcomp>\n    samples = collate_fn([dataset[i] for i in batch_indices])\n  File \"/home/b/anaconda3/envs/fastai_v1/lib/python3.6/site-packages/fastai/data_block.py\", line 447, in __getitem__\n    if self.item is None: x,y = self.x[idxs],self.y[idxs]\n  File \"/home/b/anaconda3/envs/fastai_v1/lib/python3.6/site-packages/fastai/data_block.py\", line 82, in __getitem__\n    if isinstance(try_int(idxs), int): return self.get(idxs)\n  File \"/home/b/anaconda3/envs/fastai_v1/lib/python3.6/site-packages/fastai/data_block.py\", line 327, in get\n    return FloatItem(log(o) if self.log else o)\n  File \"/home/b/anaconda3/envs/fastai_v1/lib/python3.6/site-packages/fastai/torch_core.py\", line 250, in __init__\n    def __init__(self,obj): self.data,self.obj = tensor(obj),obj\n  File \"/home/b/anaconda3/envs/fastai_v1/lib/python3.6/site-packages/fastai/torch_core.py\", line 68, in tensor\n    return torch.tensor(x) if is_listy(x) else as_tensor(x)\nTypeError: can't convert np.ndarray of type numpy.object_. The only supported types are: double, float, float16, int64, int32, and uint8.\n",
     "output_type": "error",
     "traceback": [
      "\u001b[0;31m---------------------------------------------------------------------------\u001b[0m",
      "\u001b[0;31mTypeError\u001b[0m                                 Traceback (most recent call last)",
      "\u001b[0;32m<ipython-input-113-d81c6bd29d71>\u001b[0m in \u001b[0;36m<module>\u001b[0;34m\u001b[0m\n\u001b[0;32m----> 1\u001b[0;31m \u001b[0mlearn\u001b[0m\u001b[0;34m.\u001b[0m\u001b[0mlr_find\u001b[0m\u001b[0;34m(\u001b[0m\u001b[0;34m)\u001b[0m\u001b[0;34m\u001b[0m\u001b[0;34m\u001b[0m\u001b[0m\n\u001b[0m",
      "\u001b[0;32m~/anaconda3/envs/fastai_v1/lib/python3.6/site-packages/fastai/train.py\u001b[0m in \u001b[0;36mlr_find\u001b[0;34m(learn, start_lr, end_lr, num_it, stop_div, **kwargs)\u001b[0m\n\u001b[1;32m     28\u001b[0m     \u001b[0mcb\u001b[0m \u001b[0;34m=\u001b[0m \u001b[0mLRFinder\u001b[0m\u001b[0;34m(\u001b[0m\u001b[0mlearn\u001b[0m\u001b[0;34m,\u001b[0m \u001b[0mstart_lr\u001b[0m\u001b[0;34m,\u001b[0m \u001b[0mend_lr\u001b[0m\u001b[0;34m,\u001b[0m \u001b[0mnum_it\u001b[0m\u001b[0;34m,\u001b[0m \u001b[0mstop_div\u001b[0m\u001b[0;34m)\u001b[0m\u001b[0;34m\u001b[0m\u001b[0;34m\u001b[0m\u001b[0m\n\u001b[1;32m     29\u001b[0m     \u001b[0ma\u001b[0m \u001b[0;34m=\u001b[0m \u001b[0mint\u001b[0m\u001b[0;34m(\u001b[0m\u001b[0mnp\u001b[0m\u001b[0;34m.\u001b[0m\u001b[0mceil\u001b[0m\u001b[0;34m(\u001b[0m\u001b[0mnum_it\u001b[0m\u001b[0;34m/\u001b[0m\u001b[0mlen\u001b[0m\u001b[0;34m(\u001b[0m\u001b[0mlearn\u001b[0m\u001b[0;34m.\u001b[0m\u001b[0mdata\u001b[0m\u001b[0;34m.\u001b[0m\u001b[0mtrain_dl\u001b[0m\u001b[0;34m)\u001b[0m\u001b[0;34m)\u001b[0m\u001b[0;34m)\u001b[0m\u001b[0;34m\u001b[0m\u001b[0;34m\u001b[0m\u001b[0m\n\u001b[0;32m---> 30\u001b[0;31m     \u001b[0mlearn\u001b[0m\u001b[0;34m.\u001b[0m\u001b[0mfit\u001b[0m\u001b[0;34m(\u001b[0m\u001b[0ma\u001b[0m\u001b[0;34m,\u001b[0m \u001b[0mstart_lr\u001b[0m\u001b[0;34m,\u001b[0m \u001b[0mcallbacks\u001b[0m\u001b[0;34m=\u001b[0m\u001b[0;34m[\u001b[0m\u001b[0mcb\u001b[0m\u001b[0;34m]\u001b[0m\u001b[0;34m,\u001b[0m \u001b[0;34m**\u001b[0m\u001b[0mkwargs\u001b[0m\u001b[0;34m)\u001b[0m\u001b[0;34m\u001b[0m\u001b[0;34m\u001b[0m\u001b[0m\n\u001b[0m\u001b[1;32m     31\u001b[0m \u001b[0;34m\u001b[0m\u001b[0m\n\u001b[1;32m     32\u001b[0m \u001b[0;32mdef\u001b[0m \u001b[0mto_fp16\u001b[0m\u001b[0;34m(\u001b[0m\u001b[0mlearn\u001b[0m\u001b[0;34m:\u001b[0m\u001b[0mLearner\u001b[0m\u001b[0;34m,\u001b[0m \u001b[0mloss_scale\u001b[0m\u001b[0;34m:\u001b[0m\u001b[0mfloat\u001b[0m\u001b[0;34m=\u001b[0m\u001b[0;36m512.\u001b[0m\u001b[0;34m,\u001b[0m \u001b[0mflat_master\u001b[0m\u001b[0;34m:\u001b[0m\u001b[0mbool\u001b[0m\u001b[0;34m=\u001b[0m\u001b[0;32mFalse\u001b[0m\u001b[0;34m)\u001b[0m\u001b[0;34m->\u001b[0m\u001b[0mLearner\u001b[0m\u001b[0;34m:\u001b[0m\u001b[0;34m\u001b[0m\u001b[0;34m\u001b[0m\u001b[0m\n",
      "\u001b[0;32m~/anaconda3/envs/fastai_v1/lib/python3.6/site-packages/fastai/basic_train.py\u001b[0m in \u001b[0;36mfit\u001b[0;34m(self, epochs, lr, wd, callbacks)\u001b[0m\n\u001b[1;32m    160\u001b[0m         \u001b[0mcallbacks\u001b[0m \u001b[0;34m=\u001b[0m \u001b[0;34m[\u001b[0m\u001b[0mcb\u001b[0m\u001b[0;34m(\u001b[0m\u001b[0mself\u001b[0m\u001b[0;34m)\u001b[0m \u001b[0;32mfor\u001b[0m \u001b[0mcb\u001b[0m \u001b[0;32min\u001b[0m \u001b[0mself\u001b[0m\u001b[0;34m.\u001b[0m\u001b[0mcallback_fns\u001b[0m\u001b[0;34m]\u001b[0m \u001b[0;34m+\u001b[0m \u001b[0mlistify\u001b[0m\u001b[0;34m(\u001b[0m\u001b[0mcallbacks\u001b[0m\u001b[0;34m)\u001b[0m\u001b[0;34m\u001b[0m\u001b[0;34m\u001b[0m\u001b[0m\n\u001b[1;32m    161\u001b[0m         fit(epochs, self.model, self.loss_func, opt=self.opt, data=self.data, metrics=self.metrics,\n\u001b[0;32m--> 162\u001b[0;31m             callbacks=self.callbacks+callbacks)\n\u001b[0m\u001b[1;32m    163\u001b[0m \u001b[0;34m\u001b[0m\u001b[0m\n\u001b[1;32m    164\u001b[0m     \u001b[0;32mdef\u001b[0m \u001b[0mcreate_opt\u001b[0m\u001b[0;34m(\u001b[0m\u001b[0mself\u001b[0m\u001b[0;34m,\u001b[0m \u001b[0mlr\u001b[0m\u001b[0;34m:\u001b[0m\u001b[0mFloats\u001b[0m\u001b[0;34m,\u001b[0m \u001b[0mwd\u001b[0m\u001b[0;34m:\u001b[0m\u001b[0mFloats\u001b[0m\u001b[0;34m=\u001b[0m\u001b[0;36m0.\u001b[0m\u001b[0;34m)\u001b[0m\u001b[0;34m->\u001b[0m\u001b[0;32mNone\u001b[0m\u001b[0;34m:\u001b[0m\u001b[0;34m\u001b[0m\u001b[0;34m\u001b[0m\u001b[0m\n",
      "\u001b[0;32m~/anaconda3/envs/fastai_v1/lib/python3.6/site-packages/fastai/basic_train.py\u001b[0m in \u001b[0;36mfit\u001b[0;34m(epochs, model, loss_func, opt, data, callbacks, metrics)\u001b[0m\n\u001b[1;32m     92\u001b[0m     \u001b[0;32mexcept\u001b[0m \u001b[0mException\u001b[0m \u001b[0;32mas\u001b[0m \u001b[0me\u001b[0m\u001b[0;34m:\u001b[0m\u001b[0;34m\u001b[0m\u001b[0;34m\u001b[0m\u001b[0m\n\u001b[1;32m     93\u001b[0m         \u001b[0mexception\u001b[0m \u001b[0;34m=\u001b[0m \u001b[0me\u001b[0m\u001b[0;34m\u001b[0m\u001b[0;34m\u001b[0m\u001b[0m\n\u001b[0;32m---> 94\u001b[0;31m         \u001b[0;32mraise\u001b[0m \u001b[0me\u001b[0m\u001b[0;34m\u001b[0m\u001b[0;34m\u001b[0m\u001b[0m\n\u001b[0m\u001b[1;32m     95\u001b[0m     \u001b[0;32mfinally\u001b[0m\u001b[0;34m:\u001b[0m \u001b[0mcb_handler\u001b[0m\u001b[0;34m.\u001b[0m\u001b[0mon_train_end\u001b[0m\u001b[0;34m(\u001b[0m\u001b[0mexception\u001b[0m\u001b[0;34m)\u001b[0m\u001b[0;34m\u001b[0m\u001b[0;34m\u001b[0m\u001b[0m\n\u001b[1;32m     96\u001b[0m \u001b[0;34m\u001b[0m\u001b[0m\n",
      "\u001b[0;32m~/anaconda3/envs/fastai_v1/lib/python3.6/site-packages/fastai/basic_train.py\u001b[0m in \u001b[0;36mfit\u001b[0;34m(epochs, model, loss_func, opt, data, callbacks, metrics)\u001b[0m\n\u001b[1;32m     80\u001b[0m             \u001b[0mcb_handler\u001b[0m\u001b[0;34m.\u001b[0m\u001b[0mon_epoch_begin\u001b[0m\u001b[0;34m(\u001b[0m\u001b[0;34m)\u001b[0m\u001b[0;34m\u001b[0m\u001b[0;34m\u001b[0m\u001b[0m\n\u001b[1;32m     81\u001b[0m \u001b[0;34m\u001b[0m\u001b[0m\n\u001b[0;32m---> 82\u001b[0;31m             \u001b[0;32mfor\u001b[0m \u001b[0mxb\u001b[0m\u001b[0;34m,\u001b[0m\u001b[0myb\u001b[0m \u001b[0;32min\u001b[0m \u001b[0mprogress_bar\u001b[0m\u001b[0;34m(\u001b[0m\u001b[0mdata\u001b[0m\u001b[0;34m.\u001b[0m\u001b[0mtrain_dl\u001b[0m\u001b[0;34m,\u001b[0m \u001b[0mparent\u001b[0m\u001b[0;34m=\u001b[0m\u001b[0mpbar\u001b[0m\u001b[0;34m)\u001b[0m\u001b[0;34m:\u001b[0m\u001b[0;34m\u001b[0m\u001b[0;34m\u001b[0m\u001b[0m\n\u001b[0m\u001b[1;32m     83\u001b[0m                 \u001b[0mxb\u001b[0m\u001b[0;34m,\u001b[0m \u001b[0myb\u001b[0m \u001b[0;34m=\u001b[0m \u001b[0mcb_handler\u001b[0m\u001b[0;34m.\u001b[0m\u001b[0mon_batch_begin\u001b[0m\u001b[0;34m(\u001b[0m\u001b[0mxb\u001b[0m\u001b[0;34m,\u001b[0m \u001b[0myb\u001b[0m\u001b[0;34m)\u001b[0m\u001b[0;34m\u001b[0m\u001b[0;34m\u001b[0m\u001b[0m\n\u001b[1;32m     84\u001b[0m                 \u001b[0mloss\u001b[0m \u001b[0;34m=\u001b[0m \u001b[0mloss_batch\u001b[0m\u001b[0;34m(\u001b[0m\u001b[0mmodel\u001b[0m\u001b[0;34m,\u001b[0m \u001b[0mxb\u001b[0m\u001b[0;34m,\u001b[0m \u001b[0myb\u001b[0m\u001b[0;34m,\u001b[0m \u001b[0mloss_func\u001b[0m\u001b[0;34m,\u001b[0m \u001b[0mopt\u001b[0m\u001b[0;34m,\u001b[0m \u001b[0mcb_handler\u001b[0m\u001b[0;34m)\u001b[0m\u001b[0;34m\u001b[0m\u001b[0;34m\u001b[0m\u001b[0m\n",
      "\u001b[0;32m~/anaconda3/envs/fastai_v1/lib/python3.6/site-packages/fastprogress/fastprogress.py\u001b[0m in \u001b[0;36m__iter__\u001b[0;34m(self)\u001b[0m\n\u001b[1;32m     63\u001b[0m         \u001b[0mself\u001b[0m\u001b[0;34m.\u001b[0m\u001b[0mupdate\u001b[0m\u001b[0;34m(\u001b[0m\u001b[0;36m0\u001b[0m\u001b[0;34m)\u001b[0m\u001b[0;34m\u001b[0m\u001b[0;34m\u001b[0m\u001b[0m\n\u001b[1;32m     64\u001b[0m         \u001b[0;32mtry\u001b[0m\u001b[0;34m:\u001b[0m\u001b[0;34m\u001b[0m\u001b[0;34m\u001b[0m\u001b[0m\n\u001b[0;32m---> 65\u001b[0;31m             \u001b[0;32mfor\u001b[0m \u001b[0mi\u001b[0m\u001b[0;34m,\u001b[0m\u001b[0mo\u001b[0m \u001b[0;32min\u001b[0m \u001b[0menumerate\u001b[0m\u001b[0;34m(\u001b[0m\u001b[0mself\u001b[0m\u001b[0;34m.\u001b[0m\u001b[0m_gen\u001b[0m\u001b[0;34m)\u001b[0m\u001b[0;34m:\u001b[0m\u001b[0;34m\u001b[0m\u001b[0;34m\u001b[0m\u001b[0m\n\u001b[0m\u001b[1;32m     66\u001b[0m                 \u001b[0;32myield\u001b[0m \u001b[0mo\u001b[0m\u001b[0;34m\u001b[0m\u001b[0;34m\u001b[0m\u001b[0m\n\u001b[1;32m     67\u001b[0m                 \u001b[0;32mif\u001b[0m \u001b[0mself\u001b[0m\u001b[0;34m.\u001b[0m\u001b[0mauto_update\u001b[0m\u001b[0;34m:\u001b[0m \u001b[0mself\u001b[0m\u001b[0;34m.\u001b[0m\u001b[0mupdate\u001b[0m\u001b[0;34m(\u001b[0m\u001b[0mi\u001b[0m\u001b[0;34m+\u001b[0m\u001b[0;36m1\u001b[0m\u001b[0;34m)\u001b[0m\u001b[0;34m\u001b[0m\u001b[0;34m\u001b[0m\u001b[0m\n",
      "\u001b[0;32m~/anaconda3/envs/fastai_v1/lib/python3.6/site-packages/fastai/basic_data.py\u001b[0m in \u001b[0;36m__iter__\u001b[0;34m(self)\u001b[0m\n\u001b[1;32m     67\u001b[0m         \u001b[0;34m\"Process and returns items from `DataLoader`.\"\u001b[0m\u001b[0;34m\u001b[0m\u001b[0;34m\u001b[0m\u001b[0m\n\u001b[1;32m     68\u001b[0m         \u001b[0;32massert\u001b[0m \u001b[0;32mnot\u001b[0m \u001b[0mself\u001b[0m\u001b[0;34m.\u001b[0m\u001b[0mskip_size1\u001b[0m \u001b[0;32mor\u001b[0m \u001b[0mself\u001b[0m\u001b[0;34m.\u001b[0m\u001b[0mbatch_size\u001b[0m \u001b[0;34m>\u001b[0m \u001b[0;36m1\u001b[0m\u001b[0;34m,\u001b[0m \u001b[0;34m\"Batch size cannot be one if skip_size1 is set to True\"\u001b[0m\u001b[0;34m\u001b[0m\u001b[0;34m\u001b[0m\u001b[0m\n\u001b[0;32m---> 69\u001b[0;31m         \u001b[0;32mfor\u001b[0m \u001b[0mb\u001b[0m \u001b[0;32min\u001b[0m \u001b[0mself\u001b[0m\u001b[0;34m.\u001b[0m\u001b[0mdl\u001b[0m\u001b[0;34m:\u001b[0m\u001b[0;34m\u001b[0m\u001b[0;34m\u001b[0m\u001b[0m\n\u001b[0m\u001b[1;32m     70\u001b[0m             \u001b[0my\u001b[0m \u001b[0;34m=\u001b[0m \u001b[0mb\u001b[0m\u001b[0;34m[\u001b[0m\u001b[0;36m1\u001b[0m\u001b[0;34m]\u001b[0m\u001b[0;34m[\u001b[0m\u001b[0;36m0\u001b[0m\u001b[0;34m]\u001b[0m \u001b[0;32mif\u001b[0m \u001b[0mis_listy\u001b[0m\u001b[0;34m(\u001b[0m\u001b[0mb\u001b[0m\u001b[0;34m[\u001b[0m\u001b[0;36m1\u001b[0m\u001b[0;34m]\u001b[0m\u001b[0;34m)\u001b[0m \u001b[0;32melse\u001b[0m \u001b[0mb\u001b[0m\u001b[0;34m[\u001b[0m\u001b[0;36m1\u001b[0m\u001b[0;34m]\u001b[0m\u001b[0;34m\u001b[0m\u001b[0;34m\u001b[0m\u001b[0m\n\u001b[1;32m     71\u001b[0m             \u001b[0;32mif\u001b[0m \u001b[0;32mnot\u001b[0m \u001b[0mself\u001b[0m\u001b[0;34m.\u001b[0m\u001b[0mskip_size1\u001b[0m \u001b[0;32mor\u001b[0m \u001b[0my\u001b[0m\u001b[0;34m.\u001b[0m\u001b[0msize\u001b[0m\u001b[0;34m(\u001b[0m\u001b[0;36m0\u001b[0m\u001b[0;34m)\u001b[0m \u001b[0;34m!=\u001b[0m \u001b[0;36m1\u001b[0m\u001b[0;34m:\u001b[0m \u001b[0;32myield\u001b[0m \u001b[0mself\u001b[0m\u001b[0;34m.\u001b[0m\u001b[0mproc_batch\u001b[0m\u001b[0;34m(\u001b[0m\u001b[0mb\u001b[0m\u001b[0;34m)\u001b[0m\u001b[0;34m\u001b[0m\u001b[0;34m\u001b[0m\u001b[0m\n",
      "\u001b[0;32m~/anaconda3/envs/fastai_v1/lib/python3.6/site-packages/torch/utils/data/dataloader.py\u001b[0m in \u001b[0;36m__next__\u001b[0;34m(self)\u001b[0m\n\u001b[1;32m    635\u001b[0m                 \u001b[0mself\u001b[0m\u001b[0;34m.\u001b[0m\u001b[0mreorder_dict\u001b[0m\u001b[0;34m[\u001b[0m\u001b[0midx\u001b[0m\u001b[0;34m]\u001b[0m \u001b[0;34m=\u001b[0m \u001b[0mbatch\u001b[0m\u001b[0;34m\u001b[0m\u001b[0;34m\u001b[0m\u001b[0m\n\u001b[1;32m    636\u001b[0m                 \u001b[0;32mcontinue\u001b[0m\u001b[0;34m\u001b[0m\u001b[0;34m\u001b[0m\u001b[0m\n\u001b[0;32m--> 637\u001b[0;31m             \u001b[0;32mreturn\u001b[0m \u001b[0mself\u001b[0m\u001b[0;34m.\u001b[0m\u001b[0m_process_next_batch\u001b[0m\u001b[0;34m(\u001b[0m\u001b[0mbatch\u001b[0m\u001b[0;34m)\u001b[0m\u001b[0;34m\u001b[0m\u001b[0;34m\u001b[0m\u001b[0m\n\u001b[0m\u001b[1;32m    638\u001b[0m \u001b[0;34m\u001b[0m\u001b[0m\n\u001b[1;32m    639\u001b[0m     \u001b[0mnext\u001b[0m \u001b[0;34m=\u001b[0m \u001b[0m__next__\u001b[0m  \u001b[0;31m# Python 2 compatibility\u001b[0m\u001b[0;34m\u001b[0m\u001b[0;34m\u001b[0m\u001b[0m\n",
      "\u001b[0;32m~/anaconda3/envs/fastai_v1/lib/python3.6/site-packages/torch/utils/data/dataloader.py\u001b[0m in \u001b[0;36m_process_next_batch\u001b[0;34m(self, batch)\u001b[0m\n\u001b[1;32m    656\u001b[0m         \u001b[0mself\u001b[0m\u001b[0;34m.\u001b[0m\u001b[0m_put_indices\u001b[0m\u001b[0;34m(\u001b[0m\u001b[0;34m)\u001b[0m\u001b[0;34m\u001b[0m\u001b[0;34m\u001b[0m\u001b[0m\n\u001b[1;32m    657\u001b[0m         \u001b[0;32mif\u001b[0m \u001b[0misinstance\u001b[0m\u001b[0;34m(\u001b[0m\u001b[0mbatch\u001b[0m\u001b[0;34m,\u001b[0m \u001b[0mExceptionWrapper\u001b[0m\u001b[0;34m)\u001b[0m\u001b[0;34m:\u001b[0m\u001b[0;34m\u001b[0m\u001b[0;34m\u001b[0m\u001b[0m\n\u001b[0;32m--> 658\u001b[0;31m             \u001b[0;32mraise\u001b[0m \u001b[0mbatch\u001b[0m\u001b[0;34m.\u001b[0m\u001b[0mexc_type\u001b[0m\u001b[0;34m(\u001b[0m\u001b[0mbatch\u001b[0m\u001b[0;34m.\u001b[0m\u001b[0mexc_msg\u001b[0m\u001b[0;34m)\u001b[0m\u001b[0;34m\u001b[0m\u001b[0;34m\u001b[0m\u001b[0m\n\u001b[0m\u001b[1;32m    659\u001b[0m         \u001b[0;32mreturn\u001b[0m \u001b[0mbatch\u001b[0m\u001b[0;34m\u001b[0m\u001b[0;34m\u001b[0m\u001b[0m\n\u001b[1;32m    660\u001b[0m \u001b[0;34m\u001b[0m\u001b[0m\n",
      "\u001b[0;31mTypeError\u001b[0m: Traceback (most recent call last):\n  File \"/home/b/anaconda3/envs/fastai_v1/lib/python3.6/site-packages/torch/utils/data/dataloader.py\", line 138, in _worker_loop\n    samples = collate_fn([dataset[i] for i in batch_indices])\n  File \"/home/b/anaconda3/envs/fastai_v1/lib/python3.6/site-packages/torch/utils/data/dataloader.py\", line 138, in <listcomp>\n    samples = collate_fn([dataset[i] for i in batch_indices])\n  File \"/home/b/anaconda3/envs/fastai_v1/lib/python3.6/site-packages/fastai/data_block.py\", line 447, in __getitem__\n    if self.item is None: x,y = self.x[idxs],self.y[idxs]\n  File \"/home/b/anaconda3/envs/fastai_v1/lib/python3.6/site-packages/fastai/data_block.py\", line 82, in __getitem__\n    if isinstance(try_int(idxs), int): return self.get(idxs)\n  File \"/home/b/anaconda3/envs/fastai_v1/lib/python3.6/site-packages/fastai/data_block.py\", line 327, in get\n    return FloatItem(log(o) if self.log else o)\n  File \"/home/b/anaconda3/envs/fastai_v1/lib/python3.6/site-packages/fastai/torch_core.py\", line 250, in __init__\n    def __init__(self,obj): self.data,self.obj = tensor(obj),obj\n  File \"/home/b/anaconda3/envs/fastai_v1/lib/python3.6/site-packages/fastai/torch_core.py\", line 68, in tensor\n    return torch.tensor(x) if is_listy(x) else as_tensor(x)\nTypeError: can't convert np.ndarray of type numpy.object_. The only supported types are: double, float, float16, int64, int32, and uint8.\n"
     ]
    }
   ],
   "source": [
    "learn.lr_find()\n"
   ]
  },
  {
   "cell_type": "code",
   "execution_count": 44,
   "metadata": {},
   "outputs": [
    {
     "data": {
      "image/png": "[encoded data removed]",
      "text/plain": [
       "<Figure size 432x288 with 1 Axes>"
      ]
     },
     "metadata": {},
     "output_type": "display_data"
    }
   ],
   "source": [
    "learn.recorder.plot()"
   ]
  },
  {
   "cell_type": "code",
   "execution_count": null,
   "metadata": {},
   "outputs": [],
   "source": []
  }
 ],
 "metadata": {
  "kernelspec": {
   "display_name": "fastai V1 py36",
   "language": "python",
   "name": "fastai_v1"
  },
  "language_info": {
   "codemirror_mode": {
    "name": "ipython",
    "version": 3
   },
   "file_extension": ".py",
   "mimetype": "text/x-python",
   "name": "python",
   "nbconvert_exporter": "python",
   "pygments_lexer": "ipython3",
   "version": "3.6.7"
  }
 },
 "nbformat": 4,
 "nbformat_minor": 2
}
