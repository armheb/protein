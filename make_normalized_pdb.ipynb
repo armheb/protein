{
 "cells": [
  {
   "cell_type": "code",
   "execution_count": 8,
   "metadata": {},
   "outputs": [],
   "source": [
    "from fastai.structured import *\n",
    "from fastai.column_data import *\n",
    "import pandas as pd\n",
    "np.set_printoptions(threshold=50, edgeitems=20)\n",
    "\n",
    "PATH = 'orig_pdb_fixed/'"
   ]
  },
  {
   "cell_type": "code",
   "execution_count": 9,
   "metadata": {},
   "outputs": [],
   "source": [
    "from biopandas.pdb import PandasPdb"
   ]
  },
  {
   "cell_type": "code",
   "execution_count": 10,
   "metadata": {},
   "outputs": [],
   "source": [
    "path = 'orig_pdb_fixed'"
   ]
  },
  {
   "cell_type": "code",
   "execution_count": 11,
   "metadata": {},
   "outputs": [],
   "source": [
    "import glob"
   ]
  },
  {
   "cell_type": "code",
   "execution_count": 12,
   "metadata": {},
   "outputs": [],
   "source": [
    "from sklearn import preprocessing"
   ]
  },
  {
   "cell_type": "code",
   "execution_count": 13,
   "metadata": {},
   "outputs": [],
   "source": [
    " all_files = glob.glob(os.path.join(PATH, \"*\")) "
   ]
  },
  {
   "cell_type": "code",
   "execution_count": 14,
   "metadata": {},
   "outputs": [
    {
     "data": {
      "text/plain": [
       "['orig_pdb_fixed/2vtwA00.pdb',\n",
       " 'orig_pdb_fixed/3mtuE00.pdb',\n",
       " 'orig_pdb_fixed/2jzxA02.pdb',\n",
       " 'orig_pdb_fixed/4i59A03.pdb',\n",
       " 'orig_pdb_fixed/4fkcA01.pdb']"
      ]
     },
     "execution_count": 14,
     "metadata": {},
     "output_type": "execute_result"
    }
   ],
   "source": [
    "all_files[:5]"
   ]
  },
  {
   "cell_type": "code",
   "execution_count": 16,
   "metadata": {},
   "outputs": [],
   "source": [
    "pl1 = PandasPdb().read_pdb(all_files[0])"
   ]
  },
  {
   "cell_type": "code",
   "execution_count": 18,
   "metadata": {},
   "outputs": [],
   "source": [
    "scaler = preprocessing.StandardScaler()"
   ]
  },
  {
   "cell_type": "code",
   "execution_count": 19,
   "metadata": {},
   "outputs": [],
   "source": [
    "pl1.df['ATOM'][['x_coord','y_coord','z_coord']]= scaler.fit_transform(pl1.df['ATOM'][['x_coord','y_coord','z_coord']])\n"
   ]
  },
  {
   "cell_type": "code",
   "execution_count": 20,
   "metadata": {},
   "outputs": [],
   "source": [
    "f = all_files[0].split('/')[1]\n",
    "ff = f.split('.')[0]\n",
    "pl1.to_pdb(path=f'normal_pdb/{ff}.pdb', \n",
    "            records=['ATOM'], \n",
    "            gz=False, \n",
    "            append_newline=True)"
   ]
  },
  {
   "cell_type": "code",
   "execution_count": null,
   "metadata": {},
   "outputs": [],
   "source": []
  },
  {
   "cell_type": "code",
   "execution_count": null,
   "metadata": {},
   "outputs": [],
   "source": []
  },
  {
   "cell_type": "code",
   "execution_count": 28,
   "metadata": {},
   "outputs": [],
   "source": [
    "pf = PandasPdb().read_pdb(feature_dict[mutual_files[0]])"
   ]
  },
  {
   "cell_type": "code",
   "execution_count": 30,
   "metadata": {},
   "outputs": [
    {
     "data": {
      "text/plain": [
       "0       73.645\n",
       "4       69.865\n",
       "13      68.886\n",
       "24      66.575\n",
       "32      64.828\n",
       "43      64.406\n",
       "50      61.075\n",
       "61      61.507\n",
       "69      58.311\n",
       "76      59.948\n",
       "83      58.394\n",
       "91      54.968\n",
       "102     56.113\n",
       "110     56.335\n",
       "114     58.059\n",
       "122     57.525\n",
       "130     57.530\n",
       "137     61.331\n",
       "146     62.545\n",
       "155     60.721\n",
       "164     62.732\n",
       "172     65.956\n",
       "180     65.100\n",
       "187     63.997\n",
       "192     67.298\n",
       "201     69.217\n",
       "206     67.301\n",
       "214     68.101\n",
       "222     71.815\n",
       "231     71.706\n",
       "         ...  \n",
       "1733    72.431\n",
       "1738    75.591\n",
       "1747    77.308\n",
       "1753    76.065\n",
       "1763    76.247\n",
       "1772    78.156\n",
       "1781    75.533\n",
       "1788    72.402\n",
       "1796    73.404\n",
       "1800    71.491\n",
       "1808    72.349\n",
       "1817    70.696\n",
       "1824    72.077\n",
       "1828    72.330\n",
       "1836    75.480\n",
       "1844    76.479\n",
       "1854    79.063\n",
       "1863    76.591\n",
       "1872    74.265\n",
       "1880    75.037\n",
       "1887    75.231\n",
       "1894    72.200\n",
       "1902    70.391\n",
       "1908    71.511\n",
       "1918    70.168\n",
       "1926    66.605\n",
       "1933    66.285\n",
       "1939    67.315\n",
       "1946    65.369\n",
       "1954    63.169\n",
       "Name: x_coord, Length: 259, dtype: float64"
      ]
     },
     "execution_count": 30,
     "metadata": {},
     "output_type": "execute_result"
    }
   ],
   "source": [
    "pf.df['ATOM'].loc[(pf.df['ATOM'].atom_name == 'CA') , 'x_coord'] "
   ]
  },
  {
   "cell_type": "code",
   "execution_count": 18,
   "metadata": {},
   "outputs": [
    {
     "data": {
      "text/plain": [
       "1       73.645\n",
       "5       69.865\n",
       "14      68.886\n",
       "25      66.575\n",
       "33      64.828\n",
       "44      64.406\n",
       "51      61.075\n",
       "62      61.507\n",
       "70      58.311\n",
       "77      59.948\n",
       "84      58.394\n",
       "92      54.968\n",
       "103     56.113\n",
       "111     56.335\n",
       "115     58.059\n",
       "123     57.525\n",
       "131     57.530\n",
       "138     61.331\n",
       "147     62.545\n",
       "156     60.721\n",
       "165     62.732\n",
       "173     65.956\n",
       "181     65.100\n",
       "188     63.997\n",
       "193     67.298\n",
       "202     69.217\n",
       "207     67.301\n",
       "215     68.101\n",
       "223     71.815\n",
       "232     71.706\n",
       "         ...  \n",
       "1734    72.431\n",
       "1739    75.591\n",
       "1748    77.308\n",
       "1754    76.065\n",
       "1764    76.247\n",
       "1773    78.156\n",
       "1782    75.533\n",
       "1789    72.402\n",
       "1797    73.404\n",
       "1801    71.491\n",
       "1809    72.349\n",
       "1818    70.696\n",
       "1825    72.077\n",
       "1829    72.330\n",
       "1837    75.480\n",
       "1845    76.479\n",
       "1855    79.063\n",
       "1864    76.591\n",
       "1873    74.265\n",
       "1881    75.037\n",
       "1888    75.231\n",
       "1895    72.200\n",
       "1903    70.391\n",
       "1909    71.511\n",
       "1919    70.168\n",
       "1927    66.605\n",
       "1934    66.285\n",
       "1940    67.315\n",
       "1947    65.369\n",
       "1955    63.169\n",
       "Name: x_coord, Length: 259, dtype: float64"
      ]
     },
     "execution_count": 18,
     "metadata": {},
     "output_type": "execute_result"
    }
   ],
   "source": [
    "p1.df['ATOM'].loc[(p1.df['ATOM'].atom_name == 'CA') , 'x_coord'] "
   ]
  },
  {
   "cell_type": "code",
   "execution_count": 31,
   "metadata": {},
   "outputs": [
    {
     "ename": "IndexingError",
     "evalue": "Unalignable boolean Series provided as indexer (index of the boolean Series and of the indexed object do not match",
     "output_type": "error",
     "traceback": [
      "\u001b[0;31m---------------------------------------------------------------------------\u001b[0m",
      "\u001b[0;31mIndexingError\u001b[0m                             Traceback (most recent call last)",
      "\u001b[0;32m<ipython-input-31-22aa299cae7c>\u001b[0m in \u001b[0;36m<module>\u001b[0;34m()\u001b[0m\n\u001b[0;32m----> 1\u001b[0;31m \u001b[0mp1\u001b[0m\u001b[0;34m.\u001b[0m\u001b[0mdf\u001b[0m\u001b[0;34m[\u001b[0m\u001b[0;34m'ATOM'\u001b[0m\u001b[0;34m]\u001b[0m\u001b[0;34m.\u001b[0m\u001b[0mloc\u001b[0m\u001b[0;34m[\u001b[0m\u001b[0;34m(\u001b[0m\u001b[0mp1\u001b[0m\u001b[0;34m.\u001b[0m\u001b[0mdf\u001b[0m\u001b[0;34m[\u001b[0m\u001b[0;34m'ATOM'\u001b[0m\u001b[0;34m]\u001b[0m\u001b[0;34m.\u001b[0m\u001b[0matom_name\u001b[0m \u001b[0;34m==\u001b[0m \u001b[0;34m'CA'\u001b[0m\u001b[0;34m)\u001b[0m \u001b[0;34m,\u001b[0m \u001b[0;34m'x_coord'\u001b[0m\u001b[0;34m]\u001b[0m \u001b[0;34m=\u001b[0m \u001b[0mpf\u001b[0m\u001b[0;34m.\u001b[0m\u001b[0mdf\u001b[0m\u001b[0;34m[\u001b[0m\u001b[0;34m'ATOM'\u001b[0m\u001b[0;34m]\u001b[0m\u001b[0;34m.\u001b[0m\u001b[0mloc\u001b[0m\u001b[0;34m[\u001b[0m\u001b[0;34m(\u001b[0m\u001b[0mp1\u001b[0m\u001b[0;34m.\u001b[0m\u001b[0mdf\u001b[0m\u001b[0;34m[\u001b[0m\u001b[0;34m'ATOM'\u001b[0m\u001b[0;34m]\u001b[0m\u001b[0;34m.\u001b[0m\u001b[0matom_name\u001b[0m \u001b[0;34m==\u001b[0m \u001b[0;34m'CA'\u001b[0m\u001b[0;34m)\u001b[0m \u001b[0;34m,\u001b[0m \u001b[0;34m'x_coord'\u001b[0m\u001b[0;34m]\u001b[0m\u001b[0;34m\u001b[0m\u001b[0m\n\u001b[0m",
      "\u001b[0;32m~/anaconda3/envs/fastai-cpu/lib/python3.6/site-packages/pandas/core/indexing.py\u001b[0m in \u001b[0;36m__getitem__\u001b[0;34m(self, key)\u001b[0m\n\u001b[1;32m   1470\u001b[0m             \u001b[0;32mexcept\u001b[0m \u001b[0;34m(\u001b[0m\u001b[0mKeyError\u001b[0m\u001b[0;34m,\u001b[0m \u001b[0mIndexError\u001b[0m\u001b[0;34m)\u001b[0m\u001b[0;34m:\u001b[0m\u001b[0;34m\u001b[0m\u001b[0m\n\u001b[1;32m   1471\u001b[0m                 \u001b[0;32mpass\u001b[0m\u001b[0;34m\u001b[0m\u001b[0m\n\u001b[0;32m-> 1472\u001b[0;31m             \u001b[0;32mreturn\u001b[0m \u001b[0mself\u001b[0m\u001b[0;34m.\u001b[0m\u001b[0m_getitem_tuple\u001b[0m\u001b[0;34m(\u001b[0m\u001b[0mkey\u001b[0m\u001b[0;34m)\u001b[0m\u001b[0;34m\u001b[0m\u001b[0m\n\u001b[0m\u001b[1;32m   1473\u001b[0m         \u001b[0;32melse\u001b[0m\u001b[0;34m:\u001b[0m\u001b[0;34m\u001b[0m\u001b[0m\n\u001b[1;32m   1474\u001b[0m             \u001b[0;31m# we by definition only have the 0th axis\u001b[0m\u001b[0;34m\u001b[0m\u001b[0;34m\u001b[0m\u001b[0m\n",
      "\u001b[0;32m~/anaconda3/envs/fastai-cpu/lib/python3.6/site-packages/pandas/core/indexing.py\u001b[0m in \u001b[0;36m_getitem_tuple\u001b[0;34m(self, tup)\u001b[0m\n\u001b[1;32m    888\u001b[0m                 \u001b[0;32mcontinue\u001b[0m\u001b[0;34m\u001b[0m\u001b[0m\n\u001b[1;32m    889\u001b[0m \u001b[0;34m\u001b[0m\u001b[0m\n\u001b[0;32m--> 890\u001b[0;31m             \u001b[0mretval\u001b[0m \u001b[0;34m=\u001b[0m \u001b[0mgetattr\u001b[0m\u001b[0;34m(\u001b[0m\u001b[0mretval\u001b[0m\u001b[0;34m,\u001b[0m \u001b[0mself\u001b[0m\u001b[0;34m.\u001b[0m\u001b[0mname\u001b[0m\u001b[0;34m)\u001b[0m\u001b[0;34m.\u001b[0m\u001b[0m_getitem_axis\u001b[0m\u001b[0;34m(\u001b[0m\u001b[0mkey\u001b[0m\u001b[0;34m,\u001b[0m \u001b[0maxis\u001b[0m\u001b[0;34m=\u001b[0m\u001b[0mi\u001b[0m\u001b[0;34m)\u001b[0m\u001b[0;34m\u001b[0m\u001b[0m\n\u001b[0m\u001b[1;32m    891\u001b[0m \u001b[0;34m\u001b[0m\u001b[0m\n\u001b[1;32m    892\u001b[0m         \u001b[0;32mreturn\u001b[0m \u001b[0mretval\u001b[0m\u001b[0;34m\u001b[0m\u001b[0m\n",
      "\u001b[0;32m~/anaconda3/envs/fastai-cpu/lib/python3.6/site-packages/pandas/core/indexing.py\u001b[0m in \u001b[0;36m_getitem_axis\u001b[0;34m(self, key, axis)\u001b[0m\n\u001b[1;32m   1866\u001b[0m             \u001b[0;32mreturn\u001b[0m \u001b[0mself\u001b[0m\u001b[0;34m.\u001b[0m\u001b[0m_get_slice_axis\u001b[0m\u001b[0;34m(\u001b[0m\u001b[0mkey\u001b[0m\u001b[0;34m,\u001b[0m \u001b[0maxis\u001b[0m\u001b[0;34m=\u001b[0m\u001b[0maxis\u001b[0m\u001b[0;34m)\u001b[0m\u001b[0;34m\u001b[0m\u001b[0m\n\u001b[1;32m   1867\u001b[0m         \u001b[0;32melif\u001b[0m \u001b[0mcom\u001b[0m\u001b[0;34m.\u001b[0m\u001b[0mis_bool_indexer\u001b[0m\u001b[0;34m(\u001b[0m\u001b[0mkey\u001b[0m\u001b[0;34m)\u001b[0m\u001b[0;34m:\u001b[0m\u001b[0;34m\u001b[0m\u001b[0m\n\u001b[0;32m-> 1868\u001b[0;31m             \u001b[0;32mreturn\u001b[0m \u001b[0mself\u001b[0m\u001b[0;34m.\u001b[0m\u001b[0m_getbool_axis\u001b[0m\u001b[0;34m(\u001b[0m\u001b[0mkey\u001b[0m\u001b[0;34m,\u001b[0m \u001b[0maxis\u001b[0m\u001b[0;34m=\u001b[0m\u001b[0maxis\u001b[0m\u001b[0;34m)\u001b[0m\u001b[0;34m\u001b[0m\u001b[0m\n\u001b[0m\u001b[1;32m   1869\u001b[0m         \u001b[0;32melif\u001b[0m \u001b[0mis_list_like_indexer\u001b[0m\u001b[0;34m(\u001b[0m\u001b[0mkey\u001b[0m\u001b[0;34m)\u001b[0m\u001b[0;34m:\u001b[0m\u001b[0;34m\u001b[0m\u001b[0m\n\u001b[1;32m   1870\u001b[0m \u001b[0;34m\u001b[0m\u001b[0m\n",
      "\u001b[0;32m~/anaconda3/envs/fastai-cpu/lib/python3.6/site-packages/pandas/core/indexing.py\u001b[0m in \u001b[0;36m_getbool_axis\u001b[0;34m(self, key, axis)\u001b[0m\n\u001b[1;32m   1491\u001b[0m             \u001b[0maxis\u001b[0m \u001b[0;34m=\u001b[0m \u001b[0mself\u001b[0m\u001b[0;34m.\u001b[0m\u001b[0maxis\u001b[0m \u001b[0;32mor\u001b[0m \u001b[0;36m0\u001b[0m\u001b[0;34m\u001b[0m\u001b[0m\n\u001b[1;32m   1492\u001b[0m         \u001b[0mlabels\u001b[0m \u001b[0;34m=\u001b[0m \u001b[0mself\u001b[0m\u001b[0;34m.\u001b[0m\u001b[0mobj\u001b[0m\u001b[0;34m.\u001b[0m\u001b[0m_get_axis\u001b[0m\u001b[0;34m(\u001b[0m\u001b[0maxis\u001b[0m\u001b[0;34m)\u001b[0m\u001b[0;34m\u001b[0m\u001b[0m\n\u001b[0;32m-> 1493\u001b[0;31m         \u001b[0mkey\u001b[0m \u001b[0;34m=\u001b[0m \u001b[0mcheck_bool_indexer\u001b[0m\u001b[0;34m(\u001b[0m\u001b[0mlabels\u001b[0m\u001b[0;34m,\u001b[0m \u001b[0mkey\u001b[0m\u001b[0;34m)\u001b[0m\u001b[0;34m\u001b[0m\u001b[0m\n\u001b[0m\u001b[1;32m   1494\u001b[0m         \u001b[0minds\u001b[0m\u001b[0;34m,\u001b[0m \u001b[0;34m=\u001b[0m \u001b[0mkey\u001b[0m\u001b[0;34m.\u001b[0m\u001b[0mnonzero\u001b[0m\u001b[0;34m(\u001b[0m\u001b[0;34m)\u001b[0m\u001b[0;34m\u001b[0m\u001b[0m\n\u001b[1;32m   1495\u001b[0m         \u001b[0;32mtry\u001b[0m\u001b[0;34m:\u001b[0m\u001b[0;34m\u001b[0m\u001b[0m\n",
      "\u001b[0;32m~/anaconda3/envs/fastai-cpu/lib/python3.6/site-packages/pandas/core/indexing.py\u001b[0m in \u001b[0;36mcheck_bool_indexer\u001b[0;34m(ax, key)\u001b[0m\n\u001b[1;32m   2354\u001b[0m         \u001b[0mmask\u001b[0m \u001b[0;34m=\u001b[0m \u001b[0misna\u001b[0m\u001b[0;34m(\u001b[0m\u001b[0mresult\u001b[0m\u001b[0;34m.\u001b[0m\u001b[0m_values\u001b[0m\u001b[0;34m)\u001b[0m\u001b[0;34m\u001b[0m\u001b[0m\n\u001b[1;32m   2355\u001b[0m         \u001b[0;32mif\u001b[0m \u001b[0mmask\u001b[0m\u001b[0;34m.\u001b[0m\u001b[0many\u001b[0m\u001b[0;34m(\u001b[0m\u001b[0;34m)\u001b[0m\u001b[0;34m:\u001b[0m\u001b[0;34m\u001b[0m\u001b[0m\n\u001b[0;32m-> 2356\u001b[0;31m             raise IndexingError('Unalignable boolean Series provided as '\n\u001b[0m\u001b[1;32m   2357\u001b[0m                                 \u001b[0;34m'indexer (index of the boolean Series and of '\u001b[0m\u001b[0;34m\u001b[0m\u001b[0m\n\u001b[1;32m   2358\u001b[0m                                 'the indexed object do not match')\n",
      "\u001b[0;31mIndexingError\u001b[0m: Unalignable boolean Series provided as indexer (index of the boolean Series and of the indexed object do not match"
     ]
    }
   ],
   "source": [
    "p1.df['ATOM'].loc[(p1.df['ATOM'].atom_name == 'CA') , 'x_coord'] = pf.df['ATOM'].loc[(p1.df['ATOM'].atom_name == 'CA') , 'x_coord'] "
   ]
  },
  {
   "cell_type": "code",
   "execution_count": null,
   "metadata": {},
   "outputs": [],
   "source": []
  },
  {
   "cell_type": "code",
   "execution_count": null,
   "metadata": {},
   "outputs": [],
   "source": []
  },
  {
   "cell_type": "code",
   "execution_count": null,
   "metadata": {},
   "outputs": [],
   "source": []
  },
  {
   "cell_type": "code",
   "execution_count": null,
   "metadata": {},
   "outputs": [],
   "source": []
  },
  {
   "cell_type": "code",
   "execution_count": 22,
   "metadata": {},
   "outputs": [
    {
     "name": "stdout",
     "output_type": "stream",
     "text": [
      "0\n",
      "1\n",
      "2\n",
      "3\n",
      "4\n",
      "5\n",
      "6\n",
      "7\n",
      "8\n",
      "9\n",
      "10\n",
      "11\n",
      "12\n",
      "13\n",
      "14\n",
      "15\n",
      "16\n",
      "17\n",
      "18\n",
      "19\n",
      "20\n",
      "21\n",
      "22\n",
      "23\n",
      "24\n",
      "25\n",
      "26\n",
      "27\n",
      "28\n",
      "29\n",
      "30\n",
      "31\n",
      "32\n",
      "33\n",
      "34\n",
      "35\n",
      "36\n",
      "37\n",
      "38\n",
      "39\n",
      "40\n",
      "41\n",
      "42\n",
      "43\n",
      "44\n",
      "45\n",
      "46\n",
      "47\n",
      "48\n",
      "49\n",
      "50\n",
      "51\n",
      "52\n",
      "53\n",
      "54\n",
      "55\n",
      "56\n",
      "57\n",
      "58\n",
      "59\n",
      "60\n",
      "61\n",
      "62\n",
      "63\n",
      "64\n",
      "65\n",
      "66\n",
      "67\n",
      "68\n",
      "69\n",
      "70\n",
      "71\n",
      "72\n",
      "73\n",
      "74\n",
      "75\n",
      "76\n",
      "77\n",
      "78\n",
      "79\n",
      "80\n",
      "81\n",
      "82\n",
      "83\n",
      "84\n",
      "85\n",
      "86\n",
      "87\n",
      "88\n",
      "89\n",
      "90\n",
      "91\n",
      "92\n",
      "93\n",
      "94\n",
      "95\n",
      "96\n",
      "97\n",
      "98\n",
      "99\n",
      "100\n"
     ]
    }
   ],
   "source": [
    "\n",
    "c = 0\n",
    "for f in mutual_files:\n",
    "    df_t = pd.read_pickle(pickle_dict[f])\n",
    "    df=pd.read_pickle('merged_1m.pkl')\n",
    "    cat_vars = ['atom_name', 'residue_name_x', 'chain_id_y',\n",
    "       'element_symbol_y']\n",
    "    contin_vars = ['x_coord', 'y_coord', 'z_coord','feature_x', 'feature_y', 'feature_z']\n",
    "    for v in cat_vars: df[v] = df[v].astype('category').cat.as_ordered()\n",
    "    for v in contin_vars:\n",
    "        df[v] = df[v].fillna(0).astype('float32')\n",
    "    y=df.drop(['atom_name', 'residue_name_x', 'chain_id_y','b_factor_y','element_symbol_y', 'feature_x', 'feature_y', 'feature_z'],axis=1)\n",
    "    y=y.values\n",
    "    train_cats(df)\n",
    "    train_cats(df_t)\n",
    "    df=df.drop(['x_coord','y_coord', 'z_coord'],axis=1)\n",
    "    df_t=df_t.drop(['x_coord','y_coord', 'z_coord'],axis=1)\n",
    "    df1, d, nas, mapper = proc_df(df, 'b_factor_y', do_scale=True)\n",
    "    df_test, _, nas, mapper = proc_df(df_t, 'b_factor_y', do_scale=True,\n",
    "                                  mapper=mapper, na_dict=nas)\n",
    "    train_ratio = 0.9\n",
    "    train_size = int(len(df1) * train_ratio); train_size\n",
    "    val_idx = list(range(train_size, len(df1)))\n",
    "    md = ColumnarModelData.from_data_frame(PATH, val_idx, df1, y.astype(np.float32), cat_flds=cat_vars, bs=128 ,test_df= df_test)\n",
    "    cat_sz = [(c, len(df[c].cat.categories)+1) for c in cat_vars]\n",
    "    emb_szs = [(c, min(50, (c+1)//2)) for _,c in cat_sz]\n",
    "    m = md.get_learner(emb_szs, 3,0.08, 3, [1000,500,500,500,500,500,500], [0.3,0.3])\n",
    "    m.crit = F.mse_loss\n",
    "    m.load('m_feature')\n",
    "    pred_test=m.predict(True)\n",
    "    xi = pred_test[:,0]\n",
    "    yi = pred_test[:,1]\n",
    "    zi = pred_test[:,2]\n",
    "    \n",
    "#     xi = np.empty((len(pred_test),1))\n",
    "#     for i in range(len(pred_test)):\n",
    "#         b=pred_test[i][0]\n",
    "#         xi[i]=b\n",
    "    \n",
    "#     yi = np.empty((len(pred_test),1))\n",
    "#     for j in range(len(pred_test)):\n",
    "#         h=pred_test[i][1]\n",
    "#         yi[j]=h\n",
    "#     zi = np.empty((len(pred_test),1))\n",
    "#     for k in range(len(pred_test)):\n",
    "#         l=pred_test[i][2]\n",
    "#         zi[k]=l\n",
    "    xi = xi.reshape(len(pred_test))\n",
    "    yi = yi.reshape(len(pred_test))\n",
    "    zi = zi.reshape(len(pred_test))\n",
    "    xi = pd.Series(xi)\n",
    "    yi = pd.Series(yi)\n",
    "    zi = pd.Series(zi)\n",
    "    pdb = PandasPdb().read_pdb(pdb_dict[f])\n",
    "    pdb.df['ATOM']['x_coord'] = xi\n",
    "    pdb.df['ATOM']['y_coord'] = yi\n",
    "    pdb.df['ATOM']['z_coord'] = zi\n",
    "    \n",
    "    pdb.to_pdb(path=f'test_set/new_pdb/{f}.pdb', \n",
    "            records=['ATOM'], \n",
    "            gz=False, \n",
    "            append_newline=True)\n",
    "    print(c)\n",
    "    c=c+1"
   ]
  },
  {
   "cell_type": "code",
   "execution_count": 18,
   "metadata": {},
   "outputs": [
    {
     "data": {
      "text/plain": [
       "array([[43.89424, 59.68964, 16.65406],\n",
       "       [42.84148, 60.19216, 15.79624],\n",
       "       [43.08684, 61.58086, 15.15461],\n",
       "       [43.24935, 61.71384, 14.17512],\n",
       "       [41.58088, 59.55253, 15.92995],\n",
       "       [41.32315, 57.84309, 15.2151 ],\n",
       "       [40.88296, 56.90148, 15.65617],\n",
       "       [42.62218, 57.51491, 14.16098],\n",
       "       [42.96107, 62.65746, 15.98621],\n",
       "       [42.69254, 63.90514, 15.59726]], dtype=float32)"
      ]
     },
     "execution_count": 18,
     "metadata": {},
     "output_type": "execute_result"
    }
   ],
   "source": [
    "pred_test[:10]"
   ]
  },
  {
   "cell_type": "code",
   "execution_count": 21,
   "metadata": {},
   "outputs": [
    {
     "data": {
      "text/plain": [
       "array([16.65406, 15.79624, 15.15461, 14.17512, 15.92995, 15.2151 , 15.65617, 14.16098, 15.98621, 15.59726,\n",
       "       15.37395, 15.97272, 16.25845, 16.56664, 17.40854, 15.49968, 14.7758 , 14.14398, 13.99648, 12.75414,\n",
       "       ..., 14.18698, 15.21259, 13.4437 , 13.97407, 13.1443 , 12.55043, 13.23126, 13.25438, 13.43075,\n",
       "       11.32205, 10.17307,  8.92626,  8.33644, 10.30026,  9.08449, 10.97833,  8.12679,  6.75556,  5.74731,\n",
       "        5.1857 ], dtype=float32)"
      ]
     },
     "execution_count": 21,
     "metadata": {},
     "output_type": "execute_result"
    }
   ],
   "source": [
    "pred_test[:,2]"
   ]
  },
  {
   "cell_type": "code",
   "execution_count": null,
   "metadata": {},
   "outputs": [],
   "source": []
  }
 ],
 "metadata": {
  "kernelspec": {
   "display_name": "py36-fastai",
   "language": "python",
   "name": "fastai"
  },
  "language_info": {
   "codemirror_mode": {
    "name": "ipython",
    "version": 3
   },
   "file_extension": ".py",
   "mimetype": "text/x-python",
   "name": "python",
   "nbconvert_exporter": "python",
   "pygments_lexer": "ipython3",
   "version": "3.6.7"
  }
 },
 "nbformat": 4,
 "nbformat_minor": 2
}
